{
  "cells": [
    {
      "cell_type": "code",
      "execution_count": null,
      "metadata": {
        "collapsed": false
      },
      "outputs": [],
      "source": [
        "%matplotlib inline"
      ]
    },
    {
      "cell_type": "markdown",
      "metadata": {},
      "source": [
        "\n# Defining Storables\n\nThis example describes ways in which one can define storable objects.\n"
      ]
    },
    {
      "cell_type": "markdown",
      "metadata": {},
      "source": [
        "Sometimes it is not feasible to serialize an object. For example large \narrays in ``numpy``. The ``dman`` framework supports such objects \nthrough ``storables``. These should interface with the ``read`` and ``write``\nmethods as follows\n\n```python\nimport dman\ndman.write(obj, 'obj.out')\nassert(obj == dman.read(type(obj), 'obj.out'))\n```\nNo standard objects are storable. They should be defined by the user:\n\n"
      ]
    },
    {
      "cell_type": "code",
      "execution_count": null,
      "metadata": {
        "collapsed": false
      },
      "outputs": [],
      "source": [
        "import dman\nimport numpy as np\n\n@dman.storable(name=\"_num__barray\")\nclass barray(np.ndarray):\n    __ext__ = \".npy\"\n\n    def __write__(self, path):\n        with open(path, \"wb\") as f:\n            np.save(f, self)\n\n    @classmethod\n    def __read__(cls, path):\n        with open(path, \"rb\") as f:\n            res: np.ndarray = np.load(f)\n            return res.view(cls)"
      ]
    },
    {
      "cell_type": "markdown",
      "metadata": {},
      "source": [
        "The ``barray`` class is also provided in ``dman.numeric`` which can \nbe imported when ``numpy`` is installed. We can use it as follows:\n\n"
      ]
    },
    {
      "cell_type": "code",
      "execution_count": null,
      "metadata": {
        "collapsed": false
      },
      "outputs": [],
      "source": [
        "dman.write(np.eye(3).view(barray), 'array.npy')\narray = dman.read(barray, 'array.npy')\nprint(array)"
      ]
    },
    {
      "cell_type": "markdown",
      "metadata": {},
      "source": [
        "<div class=\"alert alert-danger\"><h4>Warning</h4><p>Again, the specified name should be unique for all storables.\n    It can be the same as a name of a serializable object. A name can \n    also be automatically generated similar to ``serializable`` when it is left unspecified.\n    The name can be used instead of the type when reading, which is used by the \n    more complex objects in ``dman``. \n\n```python\ndman.read('_num__barray', 'array.npy')</p></div>\n```\nIt is also possible to automatically produce storables from \ndataclasses or serializable objects. With both json is used to \nstore the object, however with a dataclass we use the default ``asdict``\nmethod to convert it to a dictionary, which only works for certain types of fields.\n\n"
      ]
    },
    {
      "cell_type": "code",
      "execution_count": null,
      "metadata": {
        "collapsed": false
      },
      "outputs": [],
      "source": [
        "from dataclasses import dataclass\n\n@dman.storable(name='manual')\n@dataclass\nclass DCLBasic:\n    value: str\n\n@dman.storable(name='manual')\n@dman.serializable(name='manual')\n@dataclass\nclass SerBasic:\n    value: str"
      ]
    },
    {
      "cell_type": "markdown",
      "metadata": {},
      "source": [
        "Both types result in the same ``json`` file:\n\n"
      ]
    },
    {
      "cell_type": "code",
      "execution_count": null,
      "metadata": {
        "collapsed": false
      },
      "outputs": [],
      "source": [
        "dman.write(DCLBasic(value='hello world!'), 'dcl.json')\nwith open('dcl.json', 'r') as f:\n    print(f.read())"
      ]
    },
    {
      "cell_type": "markdown",
      "metadata": {},
      "source": [
        "<div class=\"alert alert-info\"><h4>Note</h4><p>It is not recommended to create storables from dataclasses as above. \n    Instead one should use the more powerful ``modelclass`` decorator\n    with ``storable=True`` TODO add reference. The reason is that ``modelclass`` supports \n    storables as fields, where this method does not.</p></div>\n\n"
      ]
    }
  ],
  "metadata": {
    "kernelspec": {
      "display_name": "Python 3",
      "language": "python",
      "name": "python3"
    },
    "language_info": {
      "codemirror_mode": {
        "name": "ipython",
        "version": 3
      },
      "file_extension": ".py",
      "mimetype": "text/x-python",
      "name": "python",
      "nbconvert_exporter": "python",
      "pygments_lexer": "ipython3",
      "version": "3.9.7"
    }
  },
  "nbformat": 4,
  "nbformat_minor": 0
}