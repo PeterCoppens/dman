{
  "cells": [
    {
      "cell_type": "code",
      "execution_count": null,
      "metadata": {
        "collapsed": false
      },
      "outputs": [],
      "source": [
        "%matplotlib inline"
      ]
    },
    {
      "cell_type": "markdown",
      "metadata": {},
      "source": [
        "\n# Using Records\n\nWe show how to use ``records`` to serialize storables.\n"
      ]
    },
    {
      "cell_type": "markdown",
      "metadata": {},
      "source": [
        "We will be using ``barray`` for this example so you should have ``numpy`` \ninstalled.\n\n"
      ]
    },
    {
      "cell_type": "code",
      "execution_count": null,
      "metadata": {
        "collapsed": false
      },
      "outputs": [],
      "source": [
        "from tempfile import TemporaryDirectory\nimport dman\nfrom dman.numeric import barray\nfrom dman import tui\nimport numpy as np"
      ]
    },
    {
      "cell_type": "markdown",
      "metadata": {},
      "source": [
        "By default a ``barray`` object is not serializable:\n\n"
      ]
    },
    {
      "cell_type": "code",
      "execution_count": null,
      "metadata": {
        "collapsed": false
      },
      "outputs": [],
      "source": [
        "array = np.arange(3).view(barray)\nser = dman.serialize(array)\nprint(dman.sjson.dumps(ser, indent=4))"
      ]
    },
    {
      "cell_type": "markdown",
      "metadata": {},
      "source": [
        "Note how ``dman`` does not throw an error here. This is to make sure that \nas much data is serialized as possible. You can turn on validation\nby using a context. We illustrate such functionality in TODO add reference\n\n"
      ]
    },
    {
      "cell_type": "markdown",
      "metadata": {},
      "source": [
        "Contexts will also be useful for storing purposes as well. Specifically\nthey contain the path to which files should be stored during serialization.\nTo make sure a ``storable`` can be serialized it should be wrapped in a \n``record``. This interface has a the following features:\n\n  * File names and extensions can be specified manually or created automatically.\n  * Sub folders can be specified.\n  * Reading the object from file can be delayed until the content is accessed. \n\nThe most basic usage is as follows:\n\n"
      ]
    },
    {
      "cell_type": "code",
      "execution_count": null,
      "metadata": {
        "collapsed": false
      },
      "outputs": [],
      "source": [
        "dir = TemporaryDirectory()\nbase = dir.name\nctx = dman.context(base)\nrec = dman.record(array)\nser = dman.serialize(rec, context=ctx)\nprint(dman.sjson.dumps(ser, indent=4))"
      ]
    },
    {
      "cell_type": "markdown",
      "metadata": {},
      "source": [
        "You can see that the result of serialization now provides a pointer to \nthe file where the array is stored. We can see that the file exists:\n\n"
      ]
    },
    {
      "cell_type": "code",
      "execution_count": null,
      "metadata": {
        "collapsed": false
      },
      "outputs": [],
      "source": [
        "tui.walk_directory(base)"
      ]
    },
    {
      "cell_type": "markdown",
      "metadata": {},
      "source": [
        "And we can load its content again\n\n"
      ]
    },
    {
      "cell_type": "code",
      "execution_count": null,
      "metadata": {
        "collapsed": false
      },
      "outputs": [],
      "source": [
        "rec = dman.deserialize(ser, context=ctx)\nprint(rec)"
      ]
    },
    {
      "cell_type": "markdown",
      "metadata": {},
      "source": [
        "Note how the record specifies that it contains a ``_num__barray``\nwhich is the name for the storable type. However it also specifies ``UL``\nimplying that the file has not been loaded. We can load it by accessing \nthe ``content`` field:\n\n"
      ]
    },
    {
      "cell_type": "code",
      "execution_count": null,
      "metadata": {
        "collapsed": false
      },
      "outputs": [],
      "source": [
        "array = rec.content\nprint(array)\nprint(rec)"
      ]
    },
    {
      "cell_type": "markdown",
      "metadata": {},
      "source": [
        "Now the record no longer specifies that the ``content`` is unloaded.\nAlso observe that the file name is still the same as the one\nspecified in the original record. This means that when serializing \nagain the old file will be overwritten instead of creating a new one. \nWe can also remove the file:\n\n"
      ]
    },
    {
      "cell_type": "code",
      "execution_count": null,
      "metadata": {
        "collapsed": false
      },
      "outputs": [],
      "source": [
        "dman.remove(rec, context=ctx)\ntui.walk_directory(base)\ndir.cleanup()   # clean temporary directory"
      ]
    },
    {
      "cell_type": "markdown",
      "metadata": {},
      "source": [
        "It is possible to be more precise when specifying a ``record``.\nTo give an overview of the options available when creating \na record we provide its documentation:\n\n\n.. autofunction:: dman.record\n    :noindex:\n\n\nThe way file names are specified is left flexible for internal use, \nbut is hence somewhat complex. We list examples below.\n\n  ================================================       =========================\n  options                                                 target\n  ================================================       =========================\n  ``stem='test'``                                         ``./test``\n  ``stem='test', suffix='.txt'``                          ``./test.txt``\n  ``name='test.txt'``                                     ``./test.txt``\n  ``name='test.txt', subdir='dir'``                       ``./dir/test.txt``\n  ``name='test.txt', stem='test', suffix='.txt'``         ``ValueError``\n  ================================================       =========================\n\n\n<div class=\"alert alert-info\"><h4>Note</h4><p>It is also possible to automatically determine the ``suffix`` based \n    on the class.\n\n\n```python\n@storable(name='manual')\nclass ManualFile:\n    __ext__ = '.obj'\n    ...\n```\n    So if only a ``stem=test`` is specified the target will automatically become ``test.obj``. \n    If a ``suffix`` is specified anyway, then the one specified through ``__ext__`` \n    is overridden. \n\n    When a ``storable`` is automatically created from a ``dataclass`` or a ``serializable``\n    the ``suffix`` will be set to ``.json`` by default.</p></div>\n\n\n<div class=\"alert alert-danger\"><h4>Warning</h4><p>Be careful specifying the ``stem`` of a file. It often makes sense\n    to omit it and leave the selection up to the ``record``. That way you\n    will not accidentally re-use existing files. TODO reference to guide?</p></div>\n"
      ]
    }
  ],
  "metadata": {
    "kernelspec": {
      "display_name": "Python 3",
      "language": "python",
      "name": "python3"
    },
    "language_info": {
      "codemirror_mode": {
        "name": "ipython",
        "version": 3
      },
      "file_extension": ".py",
      "mimetype": "text/x-python",
      "name": "python",
      "nbconvert_exporter": "python",
      "pygments_lexer": "ipython3",
      "version": "3.9.7"
    }
  },
  "nbformat": 4,
  "nbformat_minor": 0
}