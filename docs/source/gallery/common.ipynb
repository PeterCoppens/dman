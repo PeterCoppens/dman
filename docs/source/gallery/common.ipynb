{
  "cells": [
    {
      "cell_type": "code",
      "execution_count": null,
      "metadata": {
        "collapsed": false
      },
      "outputs": [],
      "source": [
        "%matplotlib inline"
      ]
    },
    {
      "cell_type": "markdown",
      "metadata": {},
      "source": [
        "\n# Getting Started\n\nThis example describes a common use case of the ``dman`` library.\nYou will need to have ``numpy`` and ``rich`` installed to run this script.\n"
      ]
    },
    {
      "cell_type": "markdown",
      "metadata": {},
      "source": [
        "## Overview\n\nWe provide an example here of how one could approach. This example will show you\n\n* How to integrate ``numpy`` arrays into the framework.\n* How to setup an experiment modelclass.\n* How to save and load from cache.\n\n"
      ]
    },
    {
      "cell_type": "markdown",
      "metadata": {},
      "source": [
        "## Setting up\n\nTo setup the example we will need to following imports:\n\n"
      ]
    },
    {
      "cell_type": "code",
      "execution_count": null,
      "metadata": {
        "collapsed": false
      },
      "outputs": [],
      "source": [
        "import dman\nfrom dman import tui\nimport numpy as np\nimport os"
      ]
    },
    {
      "cell_type": "markdown",
      "metadata": {},
      "source": [
        "The first step is to describe how arrays are stored. We do so by\ncreating a ``storable`` type.\n\n"
      ]
    },
    {
      "cell_type": "code",
      "execution_count": null,
      "metadata": {
        "collapsed": false
      },
      "outputs": [],
      "source": [
        "@dman.storable(name=\"_num__barray\")\nclass barray(np.ndarray):\n    __ext__ = \".npy\"\n\n    def __write__(self, path):\n        with open(path, \"wb\") as f:\n            np.save(f, self)\n\n    @classmethod\n    def __read__(cls, path):\n        with open(path, \"rb\") as f:\n            res: np.ndarray = np.load(f)\n            return res.view(cls)"
      ]
    },
    {
      "cell_type": "markdown",
      "metadata": {},
      "source": [
        "We specify three components. First ``__ext__`` specifies the suffix added\nto the created files. The ``__write__`` defines how to store the content\nat a specified path and similarly ``__read__`` defines how to read\nthe content from a file.\n\nIt will be inconvenient to always call ``data.view(barray)`` to convert\ndata to the storable type. To make this more convenient we can\ncreate a wrapper around ``recordfield``:\n\n"
      ]
    },
    {
      "cell_type": "code",
      "execution_count": null,
      "metadata": {
        "collapsed": false
      },
      "outputs": [],
      "source": [
        "def barrayfield(**kwargs):\n    def to_sarray(arg):\n        if isinstance(arg, np.ndarray):\n            return arg.view(barray)\n        return arg\n\n    return dman.recordfield(**kwargs, pre=to_sarray)"
      ]
    },
    {
      "cell_type": "markdown",
      "metadata": {},
      "source": [
        "The callable provided through the ``pre`` argument is called whenever\na field is set in a ``modelclass``.\n\n<div class=\"alert alert-info\"><h4>Note</h4><p>Both ``barray`` and ``barrayfield`` are implemented in ``dman.numeric``.\n    We provide the details here since they are a good example on how\n    to implement a ``storable`` type.</p></div>\n\n"
      ]
    },
    {
      "cell_type": "markdown",
      "metadata": {},
      "source": [
        "Next we want to define the experiment configuration. To do so\nwe use a ``modelclass`` which acts similarly to a ``dataclass``,\nbut it is automatically serializable.\n\n"
      ]
    },
    {
      "cell_type": "code",
      "execution_count": null,
      "metadata": {
        "collapsed": false
      },
      "outputs": [],
      "source": [
        "@dman.modelclass(name=\"config\")\nclass Config:\n    seed: int = 1234\n    size: int = 20\n    nsample: int = 1000\n    nrepeats: int = 2"
      ]
    },
    {
      "cell_type": "markdown",
      "metadata": {},
      "source": [
        "We will want to do multiple runs of some test in this example, so next\nlets specify the run type.\n\n"
      ]
    },
    {
      "cell_type": "code",
      "execution_count": null,
      "metadata": {
        "collapsed": false
      },
      "outputs": [],
      "source": [
        "@dman.modelclass(name=\"run\", storable=True)\nclass Run:\n    \"\"\"\n    Run class\n        Stores simulation data.\n    \"\"\"\n\n    config: Config\n    data: barray = barrayfield(default=None)\n    output: barray = barrayfield(default=None)"
      ]
    },
    {
      "cell_type": "markdown",
      "metadata": {},
      "source": [
        "Simple enough. We specify that the ``modelclass``\ncan be stored to a file using ``storable=True``. Doing so\nhelps with performance, since loading from files is only done\nwhen needed.\n\nThe run contains two fields: ``data`` and ``output``. Note\nthat these are specified using a ``barrayfield`` (which wrapped ``recordfield``).\nThis has all options from the ``field`` method. We use this method since\nthe ``barray`` fields should be stored to a file. The ``recordfield`` makes this\nclear and enables specifying things like the filename (using ``stem='<name>'``),\nsubdirectory (using ``subdir='<subdir>'``), etc.\nWe leave these unspecified in this case and leave filename selection to\nthe ``dman`` framework.\n\n"
      ]
    },
    {
      "cell_type": "markdown",
      "metadata": {},
      "source": [
        "We will store our data in an instance of ``mruns``, which acts like\na list. File names are determined automatically based on the specified stem.\n\nFor example we can specify to store items at ``results/sim-#``\nwith ``#`` replaced by the number of the run.\n\n```python\ncontent = mruns(stem='sim', subdir='results')\n```\n<div class=\"alert alert-danger\"><h4>Warning</h4><p>To avoid unnecessary overhead caused by having to move files around,\n    the index used in the file name is not the index in the list. Instead\n    it is based on a counter that keeps track of the number of runs added.\n    This matches the index until items are deleted or inserted.</p></div>\n\n"
      ]
    },
    {
      "cell_type": "markdown",
      "metadata": {},
      "source": [
        "## Running the experiment\nWe implement a method to run the experiment given some configuration:\n\n"
      ]
    },
    {
      "cell_type": "code",
      "execution_count": null,
      "metadata": {
        "collapsed": false
      },
      "outputs": [],
      "source": [
        "def execute(cfg: Config):\n    \"\"\"\n    Run a simulation based on the provided configuration.\n    \"\"\"\n    # load the experiments from disk\n    with dman.track(\n        \"experiment\",\n        default_factory=dman.mruns_factory(stem=\"experiment\", subdir=\"results\"),\n    ) as content:\n\n        # for type hinting (this is good practice in ``dman`` since it also\n        # makes sure you imported the type you want to load).\n        content: dman.mruns = content\n\n        # if the config was run before we don't need to run again\n        if len(content) > 0 and any((run.config == cfg for run in content)):\n            return\n\n        # generate data\n        rng = np.random.default_rng(cfg.seed)\n        data = rng.random(size=(cfg.size, cfg.nsample))\n        transform = rng.standard_normal(size=(100, data.shape[0]))\n        output = transform @ data\n        content.append(Run(cfg, data, output))"
      ]
    },
    {
      "cell_type": "markdown",
      "metadata": {},
      "source": [
        "We provide an overview of the above code segment:\n\n1. The ``track`` command\n    It specifies a file key, based on which an object will be loaded.\n    If the file does not exist, it will be created based on ``default_factory``.\n    Similarly to ``load`` it specifies a file key and a default value that is used when the object can\n    not be loaded from the file key. Once the context exists, the file is saved automatically.\n\n2. The ``mruns_factory`` method\n     Returns a method with no arguments that returns ``mruns(stem='experiment', subdir='results')`` when called.\n\n3. Note that we specify the loaded type.\n    The interpreter can not know in advance what the loaded type will be, so we specify\n    it manually. This is good practice since it makes refactoring more convenient. It also avoids\n    issues caused by loading stored objects when the class definition is not imported.\n\n4. We check if the config is new.\n    To avoid re-running experiments unnecessarily we go through the list of\n    experiments and check whether the config was already executed. Note that\n    no data arrays are loaded from disk when doing so because of the deferred\n    loading supported by default through the ``record`` system.\n\n<div class=\"alert alert-danger\"><h4>Warning</h4><p>Before running the script execute ``dman init`` in the root folder\n    of your project. Files will be stored in the ``.dman`` folder created there.</p></div>\n\n"
      ]
    },
    {
      "cell_type": "markdown",
      "metadata": {},
      "source": [
        "We begin by clearing any existing runs\n\n"
      ]
    },
    {
      "cell_type": "code",
      "execution_count": null,
      "metadata": {
        "collapsed": false
      },
      "outputs": [],
      "source": [
        "with dman.track(\n    \"experiment\",\n    default_factory=dman.mruns_factory(stem=\"experiment\", subdir=\"results\"),\n) as content:\n    content: dman.mruns = content\n    content.clear()"
      ]
    },
    {
      "cell_type": "markdown",
      "metadata": {},
      "source": [
        "Alternatively if you wish to remove only the most recent run you can use:\n\n```python\nwith dman.track(\n    'experiment',\n    default_factory=mruns_factory(stem='experiment', subdir='results')\n) as content:\n    content: mruns = content\n    content.pop()\n```\nThe files are only removed once the ``track`` context exits.\n\n"
      ]
    },
    {
      "cell_type": "markdown",
      "metadata": {},
      "source": [
        "We next execute three experiments as follows:\n\n"
      ]
    },
    {
      "cell_type": "code",
      "execution_count": null,
      "metadata": {
        "collapsed": false
      },
      "outputs": [],
      "source": [
        "execute(Config(seed=1000))\nexecute(Config(seed=1024))\nexecute(Config(seed=1000))"
      ]
    },
    {
      "cell_type": "markdown",
      "metadata": {},
      "source": [
        "Afterwards you will see that ``.dman`` is populated as follows:\n\n"
      ]
    },
    {
      "cell_type": "code",
      "execution_count": null,
      "metadata": {
        "collapsed": false
      },
      "outputs": [],
      "source": [
        "tui.walk_directory(\n    os.path.join(dman.get_directory(\"experiment\"), \"..\"),\n    show_content=True,\n    normalize=True,\n    show_hidden=True,\n)"
      ]
    },
    {
      "cell_type": "markdown",
      "metadata": {},
      "source": [
        "Note that the ``experiment`` folder is ignored\nThe root file is ``experiment.json`` (as specified by the key in ``track``).\nIts content is as follows\n\n"
      ]
    },
    {
      "cell_type": "code",
      "execution_count": null,
      "metadata": {
        "collapsed": false
      },
      "outputs": [],
      "source": [
        "# show contents of \"experiment.json\"\nwith open(os.path.join(dman.get_directory(\"experiment\"), \"experiment.json\"), \"r\") as f:\n    tui.print_json(f.read())"
      ]
    },
    {
      "cell_type": "markdown",
      "metadata": {},
      "source": [
        "The results are not recorded here directly. Instead we have a\n``_ser__record`` that specifies the location of the json files\nrelative to the file ``experiment.json``.\n\nWe can see the options passed to ``mruns_factory``.\nMoreover, all of the run keys are there, but their content\ndefers to another file through a ``_ser__record`` field.\nSpecifically ``'results/experiment-#/experiment.json'``.\n\n"
      ]
    },
    {
      "cell_type": "code",
      "execution_count": null,
      "metadata": {
        "collapsed": false
      },
      "outputs": [],
      "source": [
        "# show contents of \"experiment-0.json\"\nwith open(\n    os.path.join(\n        dman.get_directory(\"experiment\"), \"results\", \"experiment-0\", \"experiment.json\"\n    ),\n    \"r\",\n) as f:\n    tui.print_json(f.read())"
      ]
    },
    {
      "cell_type": "markdown",
      "metadata": {},
      "source": [
        "You see that the ``experiment-#.json`` files contain\ninfo about the files containing the ``barray`` types. These file names\nare specified automatically using ``uuid4`` to guarantee uniqueness.\n\n"
      ]
    },
    {
      "cell_type": "markdown",
      "metadata": {},
      "source": [
        "## The Configuration File\n\nSince the configuration is serializable we can also save and load it to disk.\n\nWe can create a configuration file using the ``save``\ncommand.\n\n"
      ]
    },
    {
      "cell_type": "code",
      "execution_count": null,
      "metadata": {
        "collapsed": false
      },
      "outputs": [],
      "source": [
        "_ = dman.save(\"config\", Config(), cluster=False)"
      ]
    },
    {
      "cell_type": "markdown",
      "metadata": {},
      "source": [
        "We add the ``cluster=False`` since the Configuration only needs a single file. So no dedicated subfolder (i.e. cluster) should be created.\n\nYou should see a ``config.json`` file appear in your ``.dman`` folder.\nYou can re-run the code above, after tweaking some values. The experiment\nbehavior changes.\n\nWe can load it from disk using\n\n"
      ]
    },
    {
      "cell_type": "code",
      "execution_count": null,
      "metadata": {
        "collapsed": false
      },
      "outputs": [],
      "source": [
        "cfg: Config = dman.load(\"config\", cluster=False)\ntui.print(cfg)"
      ]
    },
    {
      "cell_type": "markdown",
      "metadata": {},
      "source": [
        "It is important that ``cluster=False`` is added here as well. Note that internally\nthe ``track`` command uses both ``load`` and ``save``.\n\n"
      ]
    },
    {
      "cell_type": "markdown",
      "metadata": {},
      "source": [
        "## Specifying Storage Folder\n\nIn the above experiment, the files were stored in\na folder called ``cache/examples:common``. The folder name\nwas created based on the script path relative to the folder in which\n``.dman`` is contained. Specifically the script was located in ``examples/common.py``.\n\nThe automatic folder name generation is implemented to avoid potential overlap\nbetween different scripts. Of course, this also means that using\n``track('experiment')`` in two different scripts will save/load from different\nfiles. If you want to use files in different scripts you can do so by specifying\na ``generator`` as follows\n\n"
      ]
    },
    {
      "cell_type": "code",
      "execution_count": null,
      "metadata": {
        "collapsed": false
      },
      "outputs": [],
      "source": [
        "_ = dman.save(\"config\", Config(), cluster=False, generator=\"demo\")"
      ]
    },
    {
      "cell_type": "markdown",
      "metadata": {},
      "source": [
        "Doing this, will save/load files from the folder ``.dman/demo`` no matter\nwhat script the command is executed from. Other options are listed in `fundamentals`\n\nFor reference, the final folder structure is as follows:\n\n"
      ]
    },
    {
      "cell_type": "code",
      "execution_count": null,
      "metadata": {
        "collapsed": false
      },
      "outputs": [],
      "source": [
        "tui.walk_directory(\n    dman.get_root_path(),\n    show_content=False,\n    normalize=True,\n    show_hidden=True,\n)"
      ]
    }
  ],
  "metadata": {
    "kernelspec": {
      "display_name": "Python 3",
      "language": "python",
      "name": "python3"
    },
    "language_info": {
      "codemirror_mode": {
        "name": "ipython",
        "version": 3
      },
      "file_extension": ".py",
      "mimetype": "text/x-python",
      "name": "python",
      "nbconvert_exporter": "python",
      "pygments_lexer": "ipython3",
      "version": "3.9.7"
    }
  },
  "nbformat": 4,
  "nbformat_minor": 0
}