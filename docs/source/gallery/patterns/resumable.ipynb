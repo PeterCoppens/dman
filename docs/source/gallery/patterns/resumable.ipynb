{
  "cells": [
    {
      "cell_type": "code",
      "execution_count": null,
      "metadata": {
        "collapsed": false
      },
      "outputs": [],
      "source": [
        "%matplotlib inline"
      ]
    },
    {
      "cell_type": "markdown",
      "metadata": {},
      "source": [
        "\n# Resumable\n\nHow to implement a resumable experiment.\n"
      ]
    },
    {
      "cell_type": "markdown",
      "metadata": {},
      "source": [
        "## Overview\n\nWe show how you can use ``dman`` to create a resumable script. To do\nso we introduce the following components:\n\n* ``tui.TaskStack`` used for resumable nested for loops (requires ``rich``).\n* ``dman.uninterrupted`` to allow for keyboard interrupt safe storing of files.\n\n"
      ]
    },
    {
      "cell_type": "markdown",
      "metadata": {},
      "source": [
        "## Setting up\n\nTo setup the example you will need the following imports:\n\n"
      ]
    },
    {
      "cell_type": "code",
      "execution_count": null,
      "metadata": {
        "collapsed": false
      },
      "outputs": [],
      "source": [
        "import dman\nfrom dman import tui\nfrom dman.numeric import barray, barrayfield\n\nimport numpy as np\nimport numpy.random as npr\n\nimport time\nfrom typing import Tuple"
      ]
    },
    {
      "cell_type": "markdown",
      "metadata": {},
      "source": [
        "We will also be using the following ``modelclass`` to store our data.\nThe field ``state`` will keep track of the current state of the script.\n\n"
      ]
    },
    {
      "cell_type": "code",
      "execution_count": null,
      "metadata": {
        "collapsed": false
      },
      "outputs": [],
      "source": [
        "@dman.modelclass\nclass Experiment:\n    data: barray = barrayfield(stem=\"data\", default=None)\n    state: Tuple[int] = None"
      ]
    },
    {
      "cell_type": "markdown",
      "metadata": {},
      "source": [
        "## Running the experiment\nWe load the experiment if it exists, otherwise we create a default one.\n\n"
      ]
    },
    {
      "cell_type": "code",
      "execution_count": null,
      "metadata": {
        "collapsed": false
      },
      "outputs": [],
      "source": [
        "shape = (30, 10)\nexp: Experiment = dman.load(\"experiment\", default_factory=Experiment)\nif exp.data is None:\n    exp.data = np.zeros(shape)"
      ]
    },
    {
      "cell_type": "markdown",
      "metadata": {},
      "source": [
        "We create the task stack (i.e. a nested for loop).\nThe code below implements the following for loops:\n\n```python\nfor i in range(shape[0]):\n    for j in range(shape[1]):\n        ...\n```\nImportant to note is that the loops are registered starting with the\ninnermost loop and working outward. We also pass the current\nexperiment state to the stack. This makes sure that the for loops\nresume from when they were interrupted.\n\n"
      ]
    },
    {
      "cell_type": "code",
      "execution_count": null,
      "metadata": {
        "collapsed": false
      },
      "outputs": [],
      "source": [
        "stack = tui.TaskStack(exp.state)\ntask_j = stack.register(\"column {j} of {m}\", shape[1], {\"j\": 0, \"m\": shape[1]})\ntask_i = stack.register(\"row    {i} of {n}\", shape[0], {\"i\": 0, \"n\": shape[0]})"
      ]
    },
    {
      "cell_type": "markdown",
      "metadata": {},
      "source": [
        "We can then iterate through the task stack, populating the data array.\n\n"
      ]
    },
    {
      "cell_type": "code",
      "execution_count": null,
      "metadata": {
        "collapsed": false
      },
      "outputs": [],
      "source": [
        "rg = npr.default_rng(1024)\nfor i, j in stack:\n    # update descriptors of tasks\n    stack.update(task_i, i=i + 1)\n    stack.update(task_j, j=j + 1)\n\n    # generate new data point\n    time.sleep(0.01)\n    exp.data[i, j] = rg.normal()\n\n    # store the state and current result\n    exp.state = stack.state\n    with dman.uninterrupted():\n        dman.save(\"experiment\", exp)"
      ]
    },
    {
      "cell_type": "markdown",
      "metadata": {},
      "source": [
        "We used ``dman.uninterrupted`` to make sure that no keyboard interrupts\noccur while saving to disk. Instead they are captured and\nraised after ``dman.save`` is completed.\n\nYou can try running the script and seeing what happens when you press\n``CTRL+C`` and resume.\n\nNo matter how many times you quit the script. Eventually the full \narray should be computed:\n\n"
      ]
    },
    {
      "cell_type": "code",
      "execution_count": null,
      "metadata": {
        "collapsed": false
      },
      "outputs": [],
      "source": [
        "exp: Experiment = dman.load(\"experiment\")\nwith np.printoptions(linewidth=80, formatter={\"float\": lambda f: f\"{f:+0.2f}\"}):\n    tui.pprint(exp.data)"
      ]
    }
  ],
  "metadata": {
    "kernelspec": {
      "display_name": "Python 3",
      "language": "python",
      "name": "python3"
    },
    "language_info": {
      "codemirror_mode": {
        "name": "ipython",
        "version": 3
      },
      "file_extension": ".py",
      "mimetype": "text/x-python",
      "name": "python",
      "nbconvert_exporter": "python",
      "pygments_lexer": "ipython3",
      "version": "3.8.12"
    }
  },
  "nbformat": 4,
  "nbformat_minor": 0
}