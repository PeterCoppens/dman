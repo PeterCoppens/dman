{
  "cells": [
    {
      "cell_type": "code",
      "execution_count": null,
      "metadata": {
        "collapsed": false
      },
      "outputs": [],
      "source": [
        "%matplotlib inline"
      ]
    },
    {
      "cell_type": "markdown",
      "metadata": {},
      "source": [
        "\n# SKLearn and SVM\n\nWe apply ``dman`` to an example on SVM in the SK Learn package.\n"
      ]
    },
    {
      "cell_type": "markdown",
      "metadata": {},
      "source": [
        "You can find the ``sklearn`` example this one is based on [here](https://scikit-learn.org/stable/auto_examples/svm/plot_svm_nonlinear.html).\nIt considers a non-linear binary classification problem, which is solved using SVC with an RBF kernel.\nWe will not go into details on the classification problem, but instead\nshow how one can use ``dman`` to store the generated data.\n\nWe show the basic example code with some data-structures added already,\nwhich we will use later for storage.\n\n"
      ]
    },
    {
      "cell_type": "code",
      "execution_count": null,
      "metadata": {
        "collapsed": false
      },
      "outputs": [],
      "source": [
        "import numpy as np\nimport matplotlib.pyplot as plt\nfrom sklearn import svm\nimport dman\n\n\n@dman.modelclass(storable=True)\nclass Config:\n    nb_samples: int = 300\n    resolution: int = 500\n    seed: int = 0\n\n\n@dman.modelclass(storable=True)\nclass Samples:\n    X: dman.barray = dman.recordfield(stem='x-samples', subdir='samples')\n    Y: dman.barray = dman.recordfield(stem='y-samples', subdir='samples')\n    \n\ndef generate_samples(cfg: Config):\n    np.random.seed(cfg.seed)\n    X = np.random.randn(cfg.nb_samples, 2)\n    Y = np.logical_xor(X[:, 0] > 0, X[:, 1] > 0)\n    return Samples(X, Y)\n\n\ndef build_figure(clf: svm.NuSVC, samples: Samples):\n    fig, ax = plt.subplots(1, 1)\n\n    # evaluate the fit\n    xx, yy = np.meshgrid(np.linspace(-3, 3, 500), np.linspace(-3, 3, 500))\n    Z = clf.decision_function(np.c_[xx.ravel(), yy.ravel()])\n    Z = Z.reshape(xx.shape)\n\n    # show the result\n    ax.imshow(\n        Z,\n        interpolation=\"nearest\",\n        extent=(xx.min(), xx.max(), yy.min(), yy.max()),\n        aspect=\"auto\",\n        origin=\"lower\",\n        cmap=plt.cm.PuOr_r,\n    )\n    ax.contour(xx, yy, Z, levels=[0], linewidths=2, linestyles=\"dashed\")\n    ax.scatter(samples.X[:, 0], samples.X[:, 1], s=30, c=samples.Y, cmap=plt.cm.Paired, edgecolors=\"k\")\n    ax.set_xticks(())\n    ax.set_yticks(())\n    ax.axis([-3, 3, -3, 3])\n    return fig"
      ]
    },
    {
      "cell_type": "markdown",
      "metadata": {},
      "source": [
        "We can then run the experiment and plot the result as follows\n\n"
      ]
    },
    {
      "cell_type": "code",
      "execution_count": null,
      "metadata": {
        "collapsed": false
      },
      "outputs": [],
      "source": [
        "cfg = Config()\nsamples = generate_samples(cfg)\nclf = svm.NuSVC(gamma=\"auto\")\nclf.fit(samples.X, samples.Y)\nbuild_figure(clf, samples)\nplt.show()"
      ]
    },
    {
      "cell_type": "markdown",
      "metadata": {},
      "source": [
        "To make the ``NuSVC`` instance serializable we use a template. Luckily the\n``NuSVC``` class is entirely defined by its ``__dict__``. \n\n"
      ]
    },
    {
      "cell_type": "code",
      "execution_count": null,
      "metadata": {
        "collapsed": false
      },
      "outputs": [],
      "source": [
        "@dman.modelclass(storable=True)\nclass T_NuSVC:\n    store: dman.mdict\n\n    @classmethod\n    def __convert__(cls, other: svm.NuSVC):\n        store = dman.mdict(store_by_key=True, subdir='svm-data')\n        for k, v in other.__dict__.items():\n            if isinstance(v, np.ndarray):\n                v = v.view(dman.numeric.barray)  # store as binary files\n            store[k] = v\n        return cls(store=store)\n    \n    def __de_convert__(self):\n        res = svm.NuSVC()\n        res.__dict__ = {k: v for k, v in self.store.items()}\n        return res\n\ndman.serializable(svm.NuSVC, template=T_NuSVC)\ndman.storable(svm.NuSVC)"
      ]
    },
    {
      "cell_type": "markdown",
      "metadata": {},
      "source": [
        "We create a data-type gathering everything together\n\n"
      ]
    },
    {
      "cell_type": "code",
      "execution_count": null,
      "metadata": {
        "collapsed": false
      },
      "outputs": [],
      "source": [
        "@dman.modelclass\nclass Result:\n    cfg: Config = dman.recordfield(stem='config')\n    samples: Samples = dman.recordfield(stem='samples', subdir='data')\n    clf: svm.NuSVC = dman.recordfield(stem='svm', subdir='data')"
      ]
    },
    {
      "cell_type": "markdown",
      "metadata": {},
      "source": [
        "And can then save the data as follows:\n\n"
      ]
    },
    {
      "cell_type": "code",
      "execution_count": null,
      "metadata": {
        "collapsed": false
      },
      "outputs": [],
      "source": [
        "res = Result(cfg, samples, clf)\n_ = dman.save('result', res)"
      ]
    },
    {
      "cell_type": "markdown",
      "metadata": {},
      "source": [
        "The resulting file structure looks like:\n\n"
      ]
    },
    {
      "cell_type": "code",
      "execution_count": null,
      "metadata": {
        "collapsed": false
      },
      "outputs": [],
      "source": [
        "dman.tui.walk_directory(dman.mount('result'), show_content=True)"
      ]
    },
    {
      "cell_type": "markdown",
      "metadata": {},
      "source": [
        "We can load the experiment and show the result once more\n\n"
      ]
    },
    {
      "cell_type": "code",
      "execution_count": null,
      "metadata": {
        "collapsed": false
      },
      "outputs": [],
      "source": [
        "res = dman.load('result')\nbuild_figure(res.clf, res.samples)\nplt.show()"
      ]
    }
  ],
  "metadata": {
    "kernelspec": {
      "display_name": "Python 3",
      "language": "python",
      "name": "python3"
    },
    "language_info": {
      "codemirror_mode": {
        "name": "ipython",
        "version": 3
      },
      "file_extension": ".py",
      "mimetype": "text/x-python",
      "name": "python",
      "nbconvert_exporter": "python",
      "pygments_lexer": "ipython3",
      "version": "3.10.9"
    }
  },
  "nbformat": 4,
  "nbformat_minor": 0
}