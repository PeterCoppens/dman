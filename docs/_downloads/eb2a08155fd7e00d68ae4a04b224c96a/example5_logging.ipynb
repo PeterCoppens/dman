{
  "cells": [
    {
      "cell_type": "code",
      "execution_count": null,
      "metadata": {
        "collapsed": false
      },
      "outputs": [],
      "source": [
        "%matplotlib inline"
      ]
    },
    {
      "cell_type": "markdown",
      "metadata": {},
      "source": [
        "\n# Logging\n\nWe illustrate basic ``dman`` logging functionality.\n"
      ]
    },
    {
      "cell_type": "markdown",
      "metadata": {},
      "source": [
        "When using ``dman`` you might have seen certain warning messages pop up,\noriginating from the logger. This logger can be configured using :func:`dman.log.config`.\n\n"
      ]
    },
    {
      "cell_type": "code",
      "execution_count": null,
      "metadata": {
        "collapsed": false
      },
      "outputs": [],
      "source": [
        "import dman\n\ndman.log.config(level=dman.log.INFO)\ndman.log.info(\"This is some info.\")"
      ]
    },
    {
      "cell_type": "markdown",
      "metadata": {},
      "source": [
        "The syntax is similar to that of :func:`logging.basicConfig`.\n\n.. autofunction:: dman.log.config\n      :noindex:\n\nBy default we use the :class:`RichHandler` from :class:`rich`. If you want\nto use more standard logging you can use the following configuration\n\n"
      ]
    },
    {
      "cell_type": "code",
      "execution_count": null,
      "metadata": {
        "collapsed": false
      },
      "outputs": [],
      "source": [
        "dman.log.config(\n    level=dman.log.INFO, use_rich=False, datefmt=\"%Y-%m-%d %H:%M:%S\", force=True\n)\ndman.log.backend.basicConfig\ndman.log.info(\"This is some info.\")"
      ]
    },
    {
      "cell_type": "markdown",
      "metadata": {},
      "source": [
        "The ``dman`` logger also supports some additional functionality.\n\n"
      ]
    },
    {
      "cell_type": "code",
      "execution_count": null,
      "metadata": {
        "collapsed": false
      },
      "outputs": [],
      "source": [
        "dman.log.config(level=dman.log.INFO, force=True, show_path=False)\nwith dman.log.layer(\"example\", \"layer\", prefix=\"owner\"):\n    dman.log.info(\"Indented\", label=\"example\")\n    dman.log.io(\"This is an io command\", label=\"example\")\n    dman.log.emphasize(\"This is an emphasized command\", label=\"example\")"
      ]
    },
    {
      "cell_type": "markdown",
      "metadata": {},
      "source": [
        "It is also used extensively during saving, loading and other internal functionality.\n\n"
      ]
    },
    {
      "cell_type": "code",
      "execution_count": null,
      "metadata": {
        "collapsed": false
      },
      "outputs": [],
      "source": [
        "_ = dman.save(\"person\", {\"name\": \"Adam\", \"age\": 25, \"position\": [23, 12]})"
      ]
    },
    {
      "cell_type": "markdown",
      "metadata": {},
      "source": [
        "Since these logs can be quite verbose when you set the level to ``INFO``,\nit can be useful to save the file somewhere. In fact you can do so\nwithin the ``dman`` file tree.\n\n"
      ]
    },
    {
      "cell_type": "code",
      "execution_count": null,
      "metadata": {
        "collapsed": false
      },
      "outputs": [],
      "source": [
        "@dman.modelclass\nclass Experiment:\n    value: int\n    log: dman.FileTarget = dman.recordfield(\n        name=\"dman.log\", default_factory=dman.FileTarget\n    )\n\n\nexp = Experiment(25)\ndman.log.config(\n    level=dman.log.INFO, stream=exp.log, force=True, console_style={\"width\": 160}\n)\ndman.clean(\"experiment\", generator=\"\")\ndman.save(\"experiment\", exp, generator=\"\")\ndman.tui.walk_directory(\n    dman.mount(\"experiment\", generator=\"\"),\n    show_content=True,\n    console=dman.tui.Console(width=180),\n)"
      ]
    }
  ],
  "metadata": {
    "kernelspec": {
      "display_name": "Python 3",
      "language": "python",
      "name": "python3"
    },
    "language_info": {
      "codemirror_mode": {
        "name": "ipython",
        "version": 3
      },
      "file_extension": ".py",
      "mimetype": "text/x-python",
      "name": "python",
      "nbconvert_exporter": "python",
      "pygments_lexer": "ipython3",
      "version": "3.10.9"
    }
  },
  "nbformat": 4,
  "nbformat_minor": 0
}