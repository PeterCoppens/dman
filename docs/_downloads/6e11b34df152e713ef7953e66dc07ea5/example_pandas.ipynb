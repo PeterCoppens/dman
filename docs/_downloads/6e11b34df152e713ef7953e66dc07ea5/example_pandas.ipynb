{
  "cells": [
    {
      "cell_type": "code",
      "execution_count": null,
      "metadata": {
        "collapsed": false
      },
      "outputs": [],
      "source": [
        "%matplotlib inline"
      ]
    },
    {
      "cell_type": "markdown",
      "metadata": {},
      "source": [
        "\n# Panda DataFrames\nWe apply ``dman`` to handle a ``DataFrame`` from ``panda``.\n"
      ]
    },
    {
      "cell_type": "markdown",
      "metadata": {},
      "source": [
        "To do so we will need the following imports\n\n"
      ]
    },
    {
      "cell_type": "code",
      "execution_count": null,
      "metadata": {
        "collapsed": false
      },
      "outputs": [],
      "source": [
        "import datetime, textwrap, os, urllib.request, tempfile\nimport pandas as pd\n\nimport dman\nfrom dman import tui"
      ]
    },
    {
      "cell_type": "markdown",
      "metadata": {},
      "source": [
        "We then load the iris dataset.\n\n"
      ]
    },
    {
      "cell_type": "code",
      "execution_count": null,
      "metadata": {
        "collapsed": false
      },
      "outputs": [],
      "source": [
        "KEY = \"iris\"\nURL = \"https://archive.ics.uci.edu/ml/machine-learning-databases/iris/iris.data\"\nHEADER = [\"sepal.length\", \"sepal.width\", \"petal.length\", \"petal.width\", \"variety\"]\n\nwith tempfile.TemporaryDirectory() as base:\n    path = os.path.join(base, f\"{KEY}.data\")\n    urllib.request.urlretrieve(URL, path)\n\n    df = pd.read_csv(\n        path,\n        sep=\",\",\n        header=None,\n        names=HEADER,\n    )\n\n    df[\"variety\"] = df[\"variety\"].apply(lambda x: x.split(\"-\")[-1])"
      ]
    },
    {
      "cell_type": "markdown",
      "metadata": {},
      "source": [
        "To turn the ``DataFrame`` into a storable we register it as one manually.\n\n"
      ]
    },
    {
      "cell_type": "code",
      "execution_count": null,
      "metadata": {
        "collapsed": false
      },
      "outputs": [],
      "source": [
        "dman.register_storable(\n    \"pd_dataframe\",\n    pd.DataFrame,\n    write=lambda df, path: df.to_csv(path),\n    read=lambda path: pd.read_csv(path),\n)\npd.DataFrame.__ext__ = '.csv'"
      ]
    },
    {
      "cell_type": "markdown",
      "metadata": {},
      "source": [
        "We can now save a ``DataFrame`` directly using a ``record``.\n\n"
      ]
    },
    {
      "cell_type": "code",
      "execution_count": null,
      "metadata": {
        "collapsed": false
      },
      "outputs": [],
      "source": [
        "dman.save('iris', dman.record(df, stem='iris'))\ndf = dman.load('iris').content\nprint(df)\ntui.walk_directory(dman.mount('iris'), show_content=['.json'])"
      ]
    },
    {
      "cell_type": "markdown",
      "metadata": {},
      "source": [
        "Alternatively we can define a more complex storage architecture.\n\n"
      ]
    },
    {
      "cell_type": "code",
      "execution_count": null,
      "metadata": {
        "collapsed": false
      },
      "outputs": [],
      "source": [
        "@dman.modelclass(storable=True)\nclass DataItem:\n    data: pd.DataFrame = dman.recordfield(stem='data')\n    description: str = ''\n    created: str = dman.field(default_factory=lambda: datetime.datetime.now().isoformat())\n\n\nitem = DataItem(df, \n    textwrap.dedent('''\n    This is perhaps the best known database to be found in the pattern recognition literature. \n    Fisher's paper is a classic in the field and is referenced frequently to this day. \n    (See Duda & Hart, for example.) The data set contains 3 classes of 50 instances each, \n    where each class refers to a type of iris plant. One class is linearly separable\n    from the other 2; the latter are NOT linearly separable from each other.\n    Predicted attribute: class of iris plant.\n    This is an exceedingly simple domain.\n    This data differs from the data presented in Fishers article (identified by \n    Steve Chadwick, spchadwick '@' espeedaz.net ). The 35th sample should be: \n    4.9,3.1,1.5,0.2,\"Iris-setosa\" where the error is in the fourth feature. \n    The 38th sample: 4.9,3.6,1.4,0.1,\"Iris-setosa\" where the errors are in the \n    second and third features.\n    Source: https://archive.ics.uci.edu/ml/datasets/iris\n    ''')\n)\n\ncontainer = dman.mdict(store_by_key=True, store_subdir=True)\ncontainer['iris'] = item\ndman.save('dataframes', container)\nitem: DataItem = dman.load('dataframes')['iris']\nprint(item.data)\ntui.walk_directory(dman.mount('dataframes'), show_content=['.json'])"
      ]
    }
  ],
  "metadata": {
    "kernelspec": {
      "display_name": "Python 3",
      "language": "python",
      "name": "python3"
    },
    "language_info": {
      "codemirror_mode": {
        "name": "ipython",
        "version": 3
      },
      "file_extension": ".py",
      "mimetype": "text/x-python",
      "name": "python",
      "nbconvert_exporter": "python",
      "pygments_lexer": "ipython3",
      "version": "3.10.9"
    }
  },
  "nbformat": 4,
  "nbformat_minor": 0
}