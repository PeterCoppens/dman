{
  "cells": [
    {
      "cell_type": "code",
      "execution_count": null,
      "metadata": {
        "collapsed": false
      },
      "outputs": [],
      "source": [
        "%matplotlib inline"
      ]
    },
    {
      "cell_type": "markdown",
      "metadata": {},
      "source": [
        "\n# Defining Storables\n\nThis example describes ways in which one can define storable objects.\n"
      ]
    },
    {
      "cell_type": "markdown",
      "metadata": {},
      "source": [
        "Sometimes it is not feasible to serialize an object. For example large \narrays in ``numpy``. The ``dman`` framework supports such objects \nthrough ``storables``. These should interface with the ``read`` and ``write``\nmethods as follows\n\n```python\nimport dman\ndman.write(obj, 'obj.out')\nassert(obj == dman.read(type(obj), 'obj.out'))\n```\nThere are several ways to define ``storable`` types. We provide an overview \nhere.\n\n"
      ]
    },
    {
      "cell_type": "code",
      "execution_count": null,
      "metadata": {
        "collapsed": false
      },
      "outputs": [],
      "source": [
        "from tempfile import TemporaryDirectory\nimport os\nimport dman\nimport numpy as np"
      ]
    },
    {
      "cell_type": "markdown",
      "metadata": {},
      "source": [
        "## Manual Definition\n\nThe first method is to define writing and reading behavior in the signature\nof the class.\n\n"
      ]
    },
    {
      "cell_type": "code",
      "execution_count": null,
      "metadata": {
        "collapsed": false
      },
      "outputs": [],
      "source": [
        "@dman.storable(name=\"_num__barray\")\nclass barray(np.ndarray):\n    __ext__ = \".npy\"\n\n    def __write__(self, path):\n        with open(path, \"wb\") as f:\n            np.save(f, self)\n\n    @classmethod\n    def __read__(cls, path):\n        with open(path, \"rb\") as f:\n            res: np.ndarray = np.load(f)\n            return res.view(cls)"
      ]
    },
    {
      "cell_type": "markdown",
      "metadata": {},
      "source": [
        "The ``barray`` class is also provided in ``dman.numeric`` which can \nbe imported when ``numpy`` is installed. We can use it as follows:\n\n"
      ]
    },
    {
      "cell_type": "code",
      "execution_count": null,
      "metadata": {
        "collapsed": false
      },
      "outputs": [],
      "source": [
        "with TemporaryDirectory() as base:\n    path = os.path.join(base, 'array.npy')\n    dman.write(np.eye(3).view(barray), path)\n    array = dman.read(barray, path)\n    print(array)"
      ]
    },
    {
      "cell_type": "markdown",
      "metadata": {},
      "source": [
        "<div class=\"alert alert-danger\"><h4>Warning</h4><p>Again, the specified name should be unique for all storables.\n    It can be the same as a name of a serializable object. A name can \n    also be automatically generated similar to ``serializable`` when it is left unspecified.\n    The name can be used instead of the type when reading, which is used by the \n    more complex objects in ``dman``. \n\n```python\ndman.read('_num__barray', 'array.npy')</p></div>\n```\nIt is also possible to automatically produce storables from \ndataclasses or serializable objects. With both json is used to \nstore the object, however with a dataclass we use the default ``asdict``\nmethod to convert it to a dictionary, which only works for certain types of fields.\n\n"
      ]
    },
    {
      "cell_type": "code",
      "execution_count": null,
      "metadata": {
        "collapsed": false
      },
      "outputs": [],
      "source": [
        "from dataclasses import dataclass\n\n@dman.storable(name='manual')\n@dataclass\nclass DCLBasic:\n    value: str\n\n@dman.storable(name='manual')\n@dman.serializable(name='manual')\n@dataclass\nclass SerBasic:\n    value: str"
      ]
    },
    {
      "cell_type": "markdown",
      "metadata": {},
      "source": [
        "Both types result in the same ``json`` file:\n\n"
      ]
    },
    {
      "cell_type": "code",
      "execution_count": null,
      "metadata": {
        "collapsed": false
      },
      "outputs": [],
      "source": [
        "with TemporaryDirectory() as base:\n    path = os.path.join(base, 'dcl.json')\n    dman.write(DCLBasic(value='hello world!'), path)\n    with open(path, 'r') as f:\n        print(f.read())"
      ]
    },
    {
      "cell_type": "markdown",
      "metadata": {},
      "source": [
        "<div class=\"alert alert-info\"><h4>Note</h4><p>It is not recommended to create storables from dataclasses as above. \n    Instead one should use the more powerful ``modelclass`` decorator\n    with ``storable=True``. The reason is that ``modelclass`` supports \n    storables as fields, where this method does not. See `sphx_glr_gallery_fundamentals_example3_models.py`\n    for an overview of the ``modelclass`` decorator.</p></div>\n\n"
      ]
    },
    {
      "cell_type": "markdown",
      "metadata": {},
      "source": [
        "## Registered Definition\n\nSimilarly to ``serializable`` types you can also define a custom \n``storable`` type without touching the original class.\nFor a more complete example see `sphx_glr_gallery_cases_example_pandas.py`.\n\n"
      ]
    },
    {
      "cell_type": "code",
      "execution_count": null,
      "metadata": {
        "collapsed": false
      },
      "outputs": [],
      "source": [
        "class Frozen:    \n    def __init__(self, data: int):\n        self.data = data\n    \n    def __repr__(self):\n        return f'{self.__class__.__name__}(data={self.data})'\n\n\ndef _write_frozen(frozen: Frozen, path: os.PathLike):\n    \"\"\"Write frozen to disk.\"\"\"\n    with open(path, 'w') as f:\n        f.write(frozen.data)\n    \n\ndef _read_frozen(path: os.PathLike):\n    \"\"\"Read frozen from disk.\"\"\"\n    with open(path, 'r') as f:\n        return Frozen(int(f.read()))\n\n\ndman.register_storable(\n    'frozen', \n    Frozen, \n    write=_write_frozen, \n    read=_read_frozen\n)"
      ]
    },
    {
      "cell_type": "markdown",
      "metadata": {},
      "source": [
        "## Creating Multiple Files\n\nAdvanced users might want to have storables create more than one file.\n\n<div class=\"alert alert-danger\"><h4>Warning</h4><p>It is usually best to have a ``storable`` write to just one file.\n      Whenever you require multiple classes then it is usually better \n      to wrap them in a ``serializable`` class like the models \n      provided by ``dman`` (e.g. ``mlist``, ``mdict``, ``modelclass``). \n      See `sphx_glr_gallery_fundamentals_example3_models.py` for details.</p></div>\n\nIf you do want to have storables create multiple files, this is possible,\nbut you should do so in such a way that ``dman`` can safely keep track of\nthe created files. We provide an example below.\n\n"
      ]
    },
    {
      "cell_type": "code",
      "execution_count": null,
      "metadata": {
        "collapsed": false
      },
      "outputs": [],
      "source": [
        "@dman.storable\nclass Multiple:\n    def __init__(self, value: str, description: str):\n        self.value = value\n        self.description = description\n\n    def __write__(self, path: os.PathLike, context: dman.Context):\n        # The provided path always points to a specific file associated \n        # with this storable. So you can use it for the main file.\n        with open(path, 'w') as f:\n            f.write(self.value)\n\n        # For additional files however you need to use the ``context`` \n        # to keep track of them. You can do so as follows:\n        with context.open('description.txt', 'w') as f:\n            f.write(self.description)\n\n        # The context keeps track of the current directory to which writing\n        # occurs. So you usually specify the path relative to it. \n\n    @classmethod\n    def __read__(cls, path: os.PathLike, context: dman.Context):\n        # Reading occurs similarly. \n        with open(path, 'r') as f:\n            value = f.read()\n\n        with context.open('description.txt', 'r') as f:\n            description = f.read()\n        \n        return cls(value, description)\n    \n    def __remove__(self, context: dman.Context):\n        # Since ``dman`` also removes files when they are no longer tracked\n        # you should define a ``__remove__`` method that deletes \n        # any additional files you created. To do so you can use the provided \n        # context again. The removal of the main file is handled by \n        # the record. \n        context.remove('description.txt')"
      ]
    },
    {
      "cell_type": "markdown",
      "metadata": {},
      "source": [
        "We will show how to interact with the storable using a ``record`` \nhere. For more information on how to use those see \n`sphx_glr_gallery_fundamentals_example2_records.py`. \nTo see when ``dman`` requires the ``__remove__`` method to \ndelete untracked files, see `sphx_glr_gallery_fundamentals_example3_models.py`.\n\n"
      ]
    },
    {
      "cell_type": "code",
      "execution_count": null,
      "metadata": {
        "collapsed": false
      },
      "outputs": [],
      "source": [
        "with TemporaryDirectory() as base:\n    ctx = dman.Context.from_directory(base)     # we will need a context.\n\n    # Create the storable and add it to a record.\n    # The record will handle all path specifications automatically.\n    mult = Multiple('John Snow', 'The name of the current user.')\n    rec = dman.record(mult, stem='value')\n\n    # We can store the file through serialization.\n    ser = dman.serialize(rec, context=ctx)\n    print('record data:')\n    dman.tui.print_serializable(ser)\n    print('files:')\n    dman.tui.walk_directory(base, show_content=True)\n\n    # Remove all files associated with the record\n    dman.remove(rec, context=ctx)  \n    print('files after removal:')\n    dman.tui.walk_directory(base, show_content=True)"
      ]
    },
    {
      "cell_type": "markdown",
      "metadata": {},
      "source": [
        "To avoid having to manually use ``context`` and ``__remove__``,\nwhich can likely cause errors we also show a similar implementation\nof the above. The above functionality can usually be avoided like this.\nWe use a ``modelclass``. Details on these can be found in  \n`sphx_glr_gallery_fundamentals_example3_models.py`.\n\n"
      ]
    },
    {
      "cell_type": "code",
      "execution_count": null,
      "metadata": {
        "collapsed": false
      },
      "outputs": [],
      "source": [
        "# Create an atomic storable type, creating only one file.\n@dman.storable\nclass StringFile:\n    def __init__(self, value: str):\n        self.value = value\n\n    def __write__(self, path):\n        with open(path, 'w') as f:\n            f.write(self.value)\n\n    @classmethod\n    def __read__(cls, path):\n        with open(path, 'r') as f:\n            return cls(f.read())\n\n\n# Automatically convert values to string files in a ``modelclass``.\ndman.register_preset(StringFile, lambda s: StringFile(s))\n\n\n# Create the modelclass that contains the atomic storable types.\n@dman.modelclass(store_by_field=True, compact=True)\nclass Multiple:\n    value: StringFile\n    description: StringFile"
      ]
    },
    {
      "cell_type": "markdown",
      "metadata": {},
      "source": [
        "We can now store the instance in a similar way to before, but now without \nrequiring a ``record``. \n\n"
      ]
    },
    {
      "cell_type": "code",
      "execution_count": null,
      "metadata": {
        "collapsed": false
      },
      "outputs": [],
      "source": [
        "with TemporaryDirectory() as base:\n    ctx = dman.Context.from_directory(base)     # we will need a context.\n\n    # Create the modelclass.\n    mult = Multiple('John Snow', 'The name of the current user.')\n\n    # We can store the file through serialization.\n    ser = dman.serialize(mult, context=ctx)\n    print('the modelclass data:')\n    dman.tui.print_serializable(ser)\n    print('files:')\n    dman.tui.walk_directory(base, show_content=True)\n\n    # Remove all files associated with the modelclass\n    dman.remove(mult, context=ctx)  \n    print('files after removal:')\n    dman.tui.walk_directory(base, show_content=True)"
      ]
    },
    {
      "cell_type": "markdown",
      "metadata": {},
      "source": [
        "The resulting files are also much more readable, since the modelclass \nnow tells a user what the created files are associated to.\n"
      ]
    }
  ],
  "metadata": {
    "kernelspec": {
      "display_name": "Python 3",
      "language": "python",
      "name": "python3"
    },
    "language_info": {
      "codemirror_mode": {
        "name": "ipython",
        "version": 3
      },
      "file_extension": ".py",
      "mimetype": "text/x-python",
      "name": "python",
      "nbconvert_exporter": "python",
      "pygments_lexer": "ipython3",
      "version": "3.10.9"
    }
  },
  "nbformat": 4,
  "nbformat_minor": 0
}