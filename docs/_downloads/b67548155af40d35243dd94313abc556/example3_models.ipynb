{
  "cells": [
    {
      "cell_type": "code",
      "execution_count": null,
      "metadata": {
        "collapsed": false
      },
      "outputs": [],
      "source": [
        "%matplotlib inline"
      ]
    },
    {
      "cell_type": "markdown",
      "metadata": {},
      "source": [
        "\n# Model Types\n\nThe objects you will use most frequently in ``dman`` are models. \n"
      ]
    },
    {
      "cell_type": "markdown",
      "metadata": {},
      "source": [
        "## Modelclass\nWe start with the most flexible model type, the ``modelclass``.\nLike all models it extends a classical Python class to handle storables.\nInternally it uses ``record`` instances to do so. Hence reading up\non those in `sphx_glr_gallery_fundamentals_example2_records.py`\ncould be helpful. Defining a ``modelclass`` is similar to defining a\n``dataclass``. We will be creating one to store numpy arrays.\n\n"
      ]
    },
    {
      "cell_type": "code",
      "execution_count": null,
      "metadata": {
        "collapsed": false
      },
      "outputs": [],
      "source": [
        "import dman\nfrom dman.numeric import sarray, barray\nimport numpy as np\n\ndman.log.default_config(level=dman.log.WARNING)\n\n\n@dman.modelclass\nclass Container:\n    label: str\n    points: sarray[int]\n    values: barray"
      ]
    },
    {
      "cell_type": "markdown",
      "metadata": {},
      "source": [
        "We will be working in a temporary directory\n\n"
      ]
    },
    {
      "cell_type": "code",
      "execution_count": null,
      "metadata": {
        "collapsed": false
      },
      "outputs": [],
      "source": [
        "from tempfile import TemporaryDirectory\n\nbase = TemporaryDirectory().name"
      ]
    },
    {
      "cell_type": "markdown",
      "metadata": {},
      "source": [
        "We can serialize the container like any other serializable type.\n\n"
      ]
    },
    {
      "cell_type": "code",
      "execution_count": null,
      "metadata": {
        "collapsed": false
      },
      "outputs": [],
      "source": [
        "container = Container(\"experiment\", np.arange(5), np.random.randn(4))\ndman.save(\"container\", container, base=base)\ndman.tui.walk_directory(dman.mount(\"container\", base=base), show_content=True)"
      ]
    },
    {
      "cell_type": "markdown",
      "metadata": {},
      "source": [
        "Note that the contents of the container are serialized as if it were a dataclass.\nHowever the ``barray`` has been replaced by a record, pointing to a file.\n\n"
      ]
    },
    {
      "cell_type": "code",
      "execution_count": null,
      "metadata": {
        "collapsed": false
      },
      "outputs": [],
      "source": [
        "container: Container = dman.load(\"container\", base=base)\ndman.tui.pprint(dman.record_fields(container))"
      ]
    },
    {
      "cell_type": "markdown",
      "metadata": {},
      "source": [
        "This record is not preloaded, so the value of the barray will only be loaded\nwhen the field is accessed.\n\n"
      ]
    },
    {
      "cell_type": "code",
      "execution_count": null,
      "metadata": {
        "collapsed": false
      },
      "outputs": [],
      "source": [
        "print(container.values)\ndman.tui.pprint(dman.record_fields(container))"
      ]
    },
    {
      "cell_type": "markdown",
      "metadata": {},
      "source": [
        "So we know that the modelclass has an internal notion of records.\nWe can use this to specify the target of the ``barray``.\nThe most configurable option is to just set the record manually\n\n"
      ]
    },
    {
      "cell_type": "code",
      "execution_count": null,
      "metadata": {
        "collapsed": false
      },
      "outputs": [],
      "source": [
        "container.values = dman.record(np.random.randn(5).view(barray), stem=\"barray\")\ndman.save(\"container\", container, base=base)\ndman.tui.walk_directory(dman.mount(\"container\", base=base), show_content=True)"
      ]
    },
    {
      "cell_type": "markdown",
      "metadata": {},
      "source": [
        "<div class=\"alert alert-info\"><h4>Note</h4><p>Note that the old file has been removed automatically, since the record\n      tracking it has been removed. This avoids cluttering your\n      ``.dman`` directory with untracked files. We could turn this auto cleaning\n      behavior off as follows:\n\n```python\ndman.params.model.auto_clean = False</p></div>\n```\nWhen specifying the record we had to manually convert a numpy array to\na ``barray``. This happens automatically in the ``modelclass``. You can use\nthe ``dman.register_preset`` method to do this for your own types.\n\n.. autofunction:: dman.register_preset\n    :noindex:\n\nIt will be useful to access the record configuration in other ways.\nAfter all, for most instances of the modelclass we likely want the same\nfile names. Here the ``recordfield`` comes in.\n\n"
      ]
    },
    {
      "cell_type": "code",
      "execution_count": null,
      "metadata": {
        "collapsed": false
      },
      "outputs": [],
      "source": [
        "@dman.modelclass\nclass Container:\n    label: str\n    points: sarray[int]\n    values: barray = dman.recordfield(stem=\"barray\")"
      ]
    },
    {
      "cell_type": "markdown",
      "metadata": {},
      "source": [
        "We can see that the stem has been adjusted.\n\n"
      ]
    },
    {
      "cell_type": "code",
      "execution_count": null,
      "metadata": {
        "collapsed": false
      },
      "outputs": [],
      "source": [
        "container = Container(\"experiment\", np.arange(5), np.random.randn(4))\ndman.save(\"container\", container, base=base)\ndman.tui.walk_directory(dman.mount(\"container\", base=base), show_content=True)"
      ]
    },
    {
      "cell_type": "markdown",
      "metadata": {},
      "source": [
        "Specifying stems like this comes at a risk however. If we save two instances\nof ``Container`` to the same folder, the ``barray.npy`` file will be reused.\n\n"
      ]
    },
    {
      "cell_type": "code",
      "execution_count": null,
      "metadata": {
        "collapsed": false
      },
      "outputs": [],
      "source": [
        "c1 = Container(\"experiment\", np.arange(5), np.random.randn(4))\nc2 = Container(\"experiment\", np.arange(5), np.random.randn(4))\n_ = dman.save(\"list\", [c1, c2], base=base)"
      ]
    },
    {
      "cell_type": "markdown",
      "metadata": {},
      "source": [
        "By default ``dman`` gives a warning and then overrides the file.\nThis implies that you should change your file hierarchy.\nLater we will show how to do so correctly. You can also configure\n``dman`` to resolve this issue in other ways.\n\nOne option is to automatically add an index to the file whenever this happens.\n\n"
      ]
    },
    {
      "cell_type": "code",
      "execution_count": null,
      "metadata": {
        "collapsed": false
      },
      "outputs": [],
      "source": [
        "dman.params.store.on_retouch = \"auto\"\nc1 = Container(\"experiment\", np.arange(5), np.random.randn(4))\nc2 = Container(\"experiment\", np.arange(5), np.random.randn(4))\n_ = dman.save(\"list\", [c1, c2], base=base)\ndman.tui.walk_directory(dman.mount(\"list\", base=base))"
      ]
    },
    {
      "cell_type": "markdown",
      "metadata": {},
      "source": [
        "Other options are\n  - ``'quit'``: The serialization process is cancelled.\n  - ``'prompt'``: Prompt the user for a file name.\n\n"
      ]
    },
    {
      "cell_type": "markdown",
      "metadata": {},
      "source": [
        "The ``recordfield`` has all the options of ``field`` and ``record`` combined.\nFeel free to experiment with them. We can also configure stems globally.\n\n"
      ]
    },
    {
      "cell_type": "code",
      "execution_count": null,
      "metadata": {
        "collapsed": false
      },
      "outputs": [],
      "source": [
        "@dman.modelclass(store_by_field=True)\nclass Container:\n    label: str\n    points: sarray[int]\n    values: barray\n\n\ncontainer = Container(\"experiment\", np.arange(5), np.random.randn(4))\ndman.save(\"fields\", container, base=base)\ndman.tui.walk_directory(\n    dman.mount(\"fields\", base=base),\n)"
      ]
    },
    {
      "cell_type": "markdown",
      "metadata": {},
      "source": [
        "The ``modelclass`` decorator has all the options that ``dataclass``\nhas and some additional ones. \n\n.. autofunction:: dman.modelclass\n    :noindex:\n\nWe provide examples of some of the more advanced features at work below\n\n**1. subdirectories**:\nWe showcase how subdirectories are determined in a ``modelclass``.\n\n"
      ]
    },
    {
      "cell_type": "code",
      "execution_count": null,
      "metadata": {
        "collapsed": false
      },
      "outputs": [],
      "source": [
        "@dman.modelclass(cluster=True, subdir='data', store_by_field=True)\nclass Container:\n    root: barray = dman.recordfield(default_factory=lambda: np.ones(3))\n    inner: barray = dman.recordfield(default_factory=lambda: np.ones(3), subdir='override')\n\ndman.save('subdirectories', Container(), base=base)\ndman.tui.walk_directory(dman.mount('subdirectories', base=base))"
      ]
    },
    {
      "cell_type": "markdown",
      "metadata": {},
      "source": [
        "**2. compact**:\nWe showcase how compact works. Note how no types are mentioned.\n\n"
      ]
    },
    {
      "cell_type": "code",
      "execution_count": null,
      "metadata": {
        "collapsed": false
      },
      "outputs": [],
      "source": [
        "@dman.modelclass(compact=True)\nclass Person:\n    name: str = 'Cave Johnson'\n    age: int = 43\n    location: sarray = dman.field(default_factory=lambda: np.array([3.0, 5.0, -100.0]))\n\ndman.tui.print_serializable(Person())"
      ]
    },
    {
      "cell_type": "markdown",
      "metadata": {},
      "source": [
        "**3. skipping serialization**:\nOne can designate certain fields to not be serialized.\n\n"
      ]
    },
    {
      "cell_type": "code",
      "execution_count": null,
      "metadata": {
        "collapsed": false
      },
      "outputs": [],
      "source": [
        "@dman.modelclass\nclass Adder:\n    __no_serialize__ = ['ans']\n    x: int\n    y: int\n    ans: int = None\n\n    def eval(self):\n        self.ans = self.x + self.y\n\nadd = Adder(3.0, 5.0)\nadd.eval()\ndman.tui.print_serializable(add)"
      ]
    },
    {
      "cell_type": "markdown",
      "metadata": {},
      "source": [
        "**4. deciding between storing and serializing**:\nSome objects can be both serialized and stored. This is how you can choose \nwhich option to use. We also showcase some other advanced features, like storable \nmodelclasses and presets.\n\n"
      ]
    },
    {
      "cell_type": "code",
      "execution_count": null,
      "metadata": {
        "collapsed": false
      },
      "outputs": [],
      "source": [
        "# This class is a storable and a serializable\n@dman.modelclass(storable=True)\nclass Fragment:\n    value: str\n\n# Presets can be used to automatically convert strings to fragments.\ndman.register_preset(\n    Fragment, lambda obj: Fragment(obj) if isinstance(obj, str) else obj\n)\n\n# Specify fragment fields in a variety of ways.\n@dman.modelclass(compact=True, store_by_field=True)\nclass Fragmenter:\n    frag0: Fragment = dman.recordfield()\n    frag1: Fragment = dman.field()\n    frag3: Fragment\n    frag4: Fragment = dman.serializefield()\n\n\ndman.save('fragmenter', Fragmenter('stored', 'also stored', 'stored too', 'serialized'), base=base)\ndman.tui.walk_directory(dman.mount('fragmenter', base=base), show_content=True)"
      ]
    },
    {
      "cell_type": "markdown",
      "metadata": {},
      "source": [
        "## Model List\n\nAfter modelclasses we have some model type equivalents of basic Python types. \nThe first of which is the model list or :class:`mlist`. These are lists that \ncan contain storables using records as is the case with modelclasses.\nThey are used automatically by ``dman``. \n\n"
      ]
    },
    {
      "cell_type": "code",
      "execution_count": null,
      "metadata": {
        "collapsed": false
      },
      "outputs": [],
      "source": [
        "a = np.ones(3).view(dman.barray)\nb = np.zeros(3).view(dman.barray)\nc = np.arange(3).view(dman.barray)\n\nlst = [a, b]\ndman.save('lst', lst, base=base)\ndman.tui.walk_directory(dman.mount('lst', base=base), show_content=True)"
      ]
    },
    {
      "cell_type": "markdown",
      "metadata": {},
      "source": [
        "If we load the list from disk we can see that its type has changed.\n\n"
      ]
    },
    {
      "cell_type": "code",
      "execution_count": null,
      "metadata": {
        "collapsed": false
      },
      "outputs": [],
      "source": [
        "lst: dman.mlist = dman.load('lst', base=base)\nprint(type(lst))"
      ]
    },
    {
      "cell_type": "markdown",
      "metadata": {},
      "source": [
        "The internal records can be accessed as follows:\n\n"
      ]
    },
    {
      "cell_type": "code",
      "execution_count": null,
      "metadata": {
        "collapsed": false
      },
      "outputs": [],
      "source": [
        "for v in lst.store:\n    print(v)"
      ]
    },
    {
      "cell_type": "markdown",
      "metadata": {},
      "source": [
        "You can directly configure a record using the ``record`` method.\n\n"
      ]
    },
    {
      "cell_type": "code",
      "execution_count": null,
      "metadata": {
        "collapsed": false
      },
      "outputs": [],
      "source": [
        "lst.record(c, stem='c')\ndman.save('lst', lst, base=base)\ndman.tui.walk_directory(dman.mount('lst', base=base))"
      ]
    },
    {
      "cell_type": "markdown",
      "metadata": {},
      "source": [
        "If you want a storable version of an :class:`mlist` you can use :class:`smlist`.\nBeyond being storable it acts identical to :class:`mlist` in every way.\n\n"
      ]
    },
    {
      "cell_type": "markdown",
      "metadata": {},
      "source": [
        "Often you want to specify file names for the internal records incrementally.\nUsing the ``record`` method each time is not convenient however. \nHence :class:`mruns` (and :class:`smruns`) are provided, which do so automatically.\n\n"
      ]
    },
    {
      "cell_type": "code",
      "execution_count": null,
      "metadata": {
        "collapsed": false
      },
      "outputs": [],
      "source": [
        "runs = dman.mruns([a, b, c], stem='run', store_subdir=False)\ndman.save('runs', runs, base=base)\ndman.tui.walk_directory(dman.mount('runs', base=base))"
      ]
    },
    {
      "cell_type": "markdown",
      "metadata": {},
      "source": [
        "Here ``store_subdir=False`` specifies that storables should be stored in \nthe root directory of the ``mruns`` object. Usually if your storables create \nmore files it is better to set ``store_subdir=True`` instead. Then each\nstorable is stored in its own directory.\n\n"
      ]
    },
    {
      "cell_type": "markdown",
      "metadata": {},
      "source": [
        "## Model Dictionary\n\nSimilarly to model lists, ``dman`` also provides the model dictionary :class:`mdict` (:class:`smdict`). \nOn a basic level, file names for storables are generated automatically.\n\n"
      ]
    },
    {
      "cell_type": "code",
      "execution_count": null,
      "metadata": {
        "collapsed": false
      },
      "outputs": [],
      "source": [
        "dct = {'a': a, 'b': b}\ndman.save('dct', dct, base=base)\ndman.tui.walk_directory(dman.mount('dct', base=base), show_content=True)"
      ]
    },
    {
      "cell_type": "markdown",
      "metadata": {},
      "source": [
        "Standard dictionaries are converted to model dictionaries automatically\nwhenever they contain storables.\n\n"
      ]
    },
    {
      "cell_type": "code",
      "execution_count": null,
      "metadata": {
        "collapsed": false
      },
      "outputs": [],
      "source": [
        "dct: dman.mdict = dman.load('dct', base=base)\nprint(type(dct))"
      ]
    },
    {
      "cell_type": "markdown",
      "metadata": {},
      "source": [
        "Similarly to model lists you can access the internal records as follows\n\n"
      ]
    },
    {
      "cell_type": "code",
      "execution_count": null,
      "metadata": {
        "collapsed": false
      },
      "outputs": [],
      "source": [
        "for k, v in dct.store.items():\n    print(k, v)"
      ]
    },
    {
      "cell_type": "markdown",
      "metadata": {},
      "source": [
        "You can also specify records directly\n\n"
      ]
    },
    {
      "cell_type": "code",
      "execution_count": null,
      "metadata": {
        "collapsed": false
      },
      "outputs": [],
      "source": [
        "dct.record('a', c, stem='c')\ndman.save('dct', dct, base=base)\ndman.tui.walk_directory(dman.mount('dct', base=base))"
      ]
    },
    {
      "cell_type": "markdown",
      "metadata": {},
      "source": [
        "Model dictionaries come with some additional settings that can aid in \nautomatically generating suitable stems.\n\n"
      ]
    },
    {
      "cell_type": "code",
      "execution_count": null,
      "metadata": {
        "collapsed": false
      },
      "outputs": [],
      "source": [
        "dct = dman.mdict.from_dict({'a': a, 'b': b, 'c': c}, store_by_key=True, store_subdir=True)\ndman.save('dct2', dct, base=base)\ndman.tui.walk_directory(dman.mount('dct2', base=base))"
      ]
    }
  ],
  "metadata": {
    "kernelspec": {
      "display_name": "Python 3",
      "language": "python",
      "name": "python3"
    },
    "language_info": {
      "codemirror_mode": {
        "name": "ipython",
        "version": 3
      },
      "file_extension": ".py",
      "mimetype": "text/x-python",
      "name": "python",
      "nbconvert_exporter": "python",
      "pygments_lexer": "ipython3",
      "version": "3.10.9"
    }
  },
  "nbformat": 4,
  "nbformat_minor": 0
}