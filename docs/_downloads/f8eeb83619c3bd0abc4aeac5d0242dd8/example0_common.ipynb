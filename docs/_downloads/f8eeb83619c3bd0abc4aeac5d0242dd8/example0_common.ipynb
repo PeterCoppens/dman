{
  "cells": [
    {
      "cell_type": "code",
      "execution_count": null,
      "metadata": {
        "collapsed": false
      },
      "outputs": [],
      "source": [
        "%matplotlib inline"
      ]
    },
    {
      "cell_type": "markdown",
      "metadata": {},
      "source": [
        "\n# Getting Started\n\nThis example illustrates basic usage of ``dman``.\n"
      ]
    },
    {
      "cell_type": "markdown",
      "metadata": {},
      "source": [
        "## Overview\n\nThe ``dman`` packages allows for convenient data storing and loading.\nThe focus is on human readability, hence ``dman`` is mostly a file \nhierarchy manager. It does allow storing some types to files by default,\nbut for others you have to define yourself how files are read from and written \nto disk. More details are provided in other example. For the full \noverview of introducing new types into ``dman`` see \n`sphx_glr_gallery_fundamentals_example1_storables.py` and\n`sphx_glr_gallery_fundamentals_example0_serializables.py`. In all\nlikelihood however you will not need to do so too often. Especially\nif your data is represented in terms of ``numpy`` arrays. \nWe will be using those in this example. \n\nThis example starts with some basic ``python`` types and how to store them \nto disk. We then show how ``dman`` extends on these types, allowing \nfor specifying file paths. Finally we show how ``modelclasses``,\nthe ``dman`` extension of a ``dataclass`` can be used.\n\nIf you want some code that can run out-of-the-box instead of a \ndetailed introduction to the important components, you can take a look \nat the other examples listed under `sphx_glr_gallery_patterns`.\n\nTo run this example you will require ``numpy`` and ``rich``.\n\n"
      ]
    },
    {
      "cell_type": "markdown",
      "metadata": {},
      "source": [
        "## Basic types\n\nYou can store most basic ``python`` types. Specifically those \nthat can be handled by ``json``. \n\n"
      ]
    },
    {
      "cell_type": "code",
      "execution_count": null,
      "metadata": {
        "collapsed": false
      },
      "outputs": [],
      "source": [
        "# clear any old data\nimport dman, shutil, os\nif os.path.isdir(dman.mount()):\n    shutil.rmtree(dman.mount())\n\nconfig = {'mode': 'automatic', 'size': 5}\ndata = [i**2 for i in range(config['size'])]\n\ndman.save('result', {'config': config, 'data': data})"
      ]
    },
    {
      "cell_type": "markdown",
      "metadata": {},
      "source": [
        "If you receive an error about ``.dman`` not existing. This means you \nhave to create one by executing ``dman init`` in your terminal or creating \na ``.dman`` folder manually in your project root. \nFiles will, by default, be stored in this folder:\n\n"
      ]
    },
    {
      "cell_type": "code",
      "execution_count": null,
      "metadata": {
        "collapsed": false
      },
      "outputs": [],
      "source": [
        "dman.tui.walk_directory(dman.mount(), show_content=True)"
      ]
    },
    {
      "cell_type": "markdown",
      "metadata": {},
      "source": [
        "By default ``dman`` can also handle ``numpy`` arrays.\n\n"
      ]
    },
    {
      "cell_type": "code",
      "execution_count": null,
      "metadata": {
        "collapsed": false
      },
      "outputs": [],
      "source": [
        "import numpy as np\ndman.save('result', {'config': config, 'data': np.arange(config['size'])**2})\ndman.tui.walk_directory(dman.mount(), show_content=True)"
      ]
    },
    {
      "cell_type": "markdown",
      "metadata": {},
      "source": [
        "We mentioned that ``dman`` is a file hierarchy manager.\nAlready some convenience is provided since we didn't need to specify a path\nfor our data. This path has been determined automatically by :func:`dman.mount`\ninternally based on the name of the script. Of course if you want \nto read the file from a different script this can be inconvenient. \nSo you can specify the generator yourself. \n\n"
      ]
    },
    {
      "cell_type": "code",
      "execution_count": null,
      "metadata": {
        "collapsed": false
      },
      "outputs": [],
      "source": [
        "dman.save('result', 'content', generator='example_common')\ndman.tui.walk_directory(dman.mount(generator='example_common'), show_content=True)"
      ]
    },
    {
      "cell_type": "markdown",
      "metadata": {},
      "source": [
        "The signature of :func:`dman.mount` is similar to that of :func:`dman.save`,\n:func:`dman.load` and :func:`dman.track`. Hence if you want to know \nwhere your files go, you can always use it. \n\nWe can also load files of course:\n\n"
      ]
    },
    {
      "cell_type": "code",
      "execution_count": null,
      "metadata": {
        "collapsed": false
      },
      "outputs": [],
      "source": [
        "print(dman.load('result', generator='example_common'))"
      ]
    },
    {
      "cell_type": "markdown",
      "metadata": {},
      "source": [
        "If the ``generator`` is not specified then loading only works \nwhen executed in the same script as the one where ``save`` was called \nwith the default ``generator``. \n\n"
      ]
    },
    {
      "cell_type": "code",
      "execution_count": null,
      "metadata": {
        "collapsed": false
      },
      "outputs": [],
      "source": [
        "print(dman.load('result'))"
      ]
    },
    {
      "cell_type": "markdown",
      "metadata": {},
      "source": [
        "Finally we can do both at the same time\n\n"
      ]
    },
    {
      "cell_type": "code",
      "execution_count": null,
      "metadata": {
        "collapsed": false
      },
      "outputs": [],
      "source": [
        "dman.save('updated', {'original': 0})\nwith dman.track('updated', default_factory=dict) as data:\n    data['value'] = 42\ndman.tui.walk_directory(dman.mount('updated'), show_content=True)"
      ]
    },
    {
      "cell_type": "markdown",
      "metadata": {},
      "source": [
        "## Creating a File Hierarchy\n\nBeyond just automatically determining a ``mount`` point to save files \nto, ``dman`` also allows creating a file hierarchy within this folder. \n\nTo do so we need to use model types. Let's start with the model version \nof dictionaries and of lists. We will also use ``barray``,\nwhich is the first ``storable`` type. It can be written and read from disk.\nThe second storable is ``smdict``, which is simply a dictionary \nthat will be stored to a separate file. \n\n"
      ]
    },
    {
      "cell_type": "code",
      "execution_count": null,
      "metadata": {
        "collapsed": false
      },
      "outputs": [],
      "source": [
        "from dman.numeric import barray\nconfig = dman.smdict.from_dict(config)\ndata = (np.arange(config['size'])**2).view(barray)\n\nfiles = dman.mdict(store_by_key=True)\nfiles.update(config=config, data=data)\n\ndman.save('files', files)\ndman.tui.walk_directory(dman.mount('files'), show_content=True)"
      ]
    },
    {
      "cell_type": "markdown",
      "metadata": {},
      "source": [
        "Now three files have been created\n\n- ``files.json`` contains meta-data, describing the content of the other files.\n- ``config.json`` is what became of our ``config`` object.\n- ``data.npy`` stores the contents of ``data``.\n\nLet us consider a more interesting example, using :class:`dman.mruns`. This object \nacts like a list, but creates file names for storables automatically. \n\n"
      ]
    },
    {
      "cell_type": "code",
      "execution_count": null,
      "metadata": {
        "collapsed": false
      },
      "outputs": [],
      "source": [
        "with dman.track('runs', default_factory=dman.mruns_factory(store_subdir=False)) as runs:\n    runs: dman.mruns = runs     # for type hinting\n    runs.clear()                # remove all previous runs\n    for i in range(3):\n        runs.append(np.random.uniform(size=i).view(barray))\n    \ndman.tui.walk_directory(dman.mount('runs'), show_content=True)"
      ]
    },
    {
      "cell_type": "markdown",
      "metadata": {},
      "source": [
        "If you don't care about file names, ``dman`` can generate them automatically:\n\n"
      ]
    },
    {
      "cell_type": "code",
      "execution_count": null,
      "metadata": {
        "collapsed": false
      },
      "outputs": [],
      "source": [
        "with dman.track('auto', default_factory=list) as lst:\n    lst.clear()\n    lst.extend([np.random.uniform(size=i).view(barray) for i in range(3)])\ndman.tui.walk_directory(dman.mount('auto'), show_content=True)"
      ]
    },
    {
      "cell_type": "markdown",
      "metadata": {},
      "source": [
        "<div class=\"alert alert-danger\"><h4>Warning</h4><p>Both specifying file names and having them be automatically generated \n      have advantages and disadvantages. When specifying the file names \n      you risk overwriting existing data, however ``dman`` \n      will give a warning by default. See `sphx_glr_gallery_fundamentals_example4_path.py`\n      for more info. Importantly if you want ``dman`` to prompt you for a new \n      filename whenever it risks overwriting an existing file use:\n\n```python\ndman.params.store.on_retouch = 'prompt'\n```\n      When not specifying file names, files will likely not be removed. \n      Instead ``dman`` keeps creating new files (unless if you use ``track`` correctly\n      as illustrated above).</p></div>\n\n"
      ]
    },
    {
      "cell_type": "markdown",
      "metadata": {},
      "source": [
        "## Modelclasses\n\nWe finally briefly illustrate the usage of ``modelclass``. \n\n"
      ]
    },
    {
      "cell_type": "code",
      "execution_count": null,
      "metadata": {
        "collapsed": false
      },
      "outputs": [],
      "source": [
        "from dman.numeric import sarray\n\n@dman.modelclass(compact=True, storable=True)\nclass Config:\n    description: str\n    size: int\n\n@dman.modelclass(storable=True, store_by_field=True)\nclass Data:\n    values: sarray[int]\n    output: barray = None\n\ncfg = Config('Experiment generating numbers', 25)\ndata = Data(np.logspace(0, 3, cfg.size))\ndata.output = np.random.uniform(size=cfg.size)"
      ]
    },
    {
      "cell_type": "markdown",
      "metadata": {},
      "source": [
        "The ``modelclass`` automatically converts the numpy arrays to the \nspecified types:\n\n"
      ]
    },
    {
      "cell_type": "code",
      "execution_count": null,
      "metadata": {
        "collapsed": false
      },
      "outputs": [],
      "source": [
        "print(\n    f'{type(data.values)=}', \n    f'{type(data.values[0])=}', \n    f'{type(data.output)=}',\n    sep='\\n'\n)"
      ]
    },
    {
      "cell_type": "markdown",
      "metadata": {},
      "source": [
        "We can now save the result\n\n"
      ]
    },
    {
      "cell_type": "code",
      "execution_count": null,
      "metadata": {
        "collapsed": false
      },
      "outputs": [],
      "source": [
        "dman.save(\n    'model', \n    dman.mdict.from_dict({'cfg': cfg, 'data': data}, store_by_key=True)\n)\ndman.tui.walk_directory(dman.mount('model'), show_content=True)"
      ]
    },
    {
      "cell_type": "markdown",
      "metadata": {},
      "source": [
        "More information on how to use ``modelclass`` can be found in \n`sphx_glr_gallery_fundamentals_example3_models.py`.\n"
      ]
    }
  ],
  "metadata": {
    "kernelspec": {
      "display_name": "Python 3",
      "language": "python",
      "name": "python3"
    },
    "language_info": {
      "codemirror_mode": {
        "name": "ipython",
        "version": 3
      },
      "file_extension": ".py",
      "mimetype": "text/x-python",
      "name": "python",
      "nbconvert_exporter": "python",
      "pygments_lexer": "ipython3",
      "version": "3.10.9"
    }
  },
  "nbformat": 4,
  "nbformat_minor": 0
}