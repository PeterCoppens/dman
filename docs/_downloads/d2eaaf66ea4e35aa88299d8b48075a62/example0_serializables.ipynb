{
  "cells": [
    {
      "cell_type": "code",
      "execution_count": null,
      "metadata": {
        "collapsed": false
      },
      "outputs": [],
      "source": [
        "%matplotlib inline"
      ]
    },
    {
      "cell_type": "markdown",
      "metadata": {},
      "source": [
        "\n# Defining Serializables\n\nThis example describes the various ways in which one \ncan construct new serializable objects.\n"
      ]
    },
    {
      "cell_type": "markdown",
      "metadata": {},
      "source": [
        "## Introduction\nTo run the example you will need the following imports:\n\n"
      ]
    },
    {
      "cell_type": "code",
      "execution_count": null,
      "metadata": {
        "collapsed": false
      },
      "outputs": [],
      "source": [
        "import dman\nimport numpy as np\nfrom dataclasses import dataclass, asdict\n\nfrom dman.core.serializables import serializable"
      ]
    },
    {
      "cell_type": "markdown",
      "metadata": {},
      "source": [
        "The base objects in ``dman`` are ``serializables``. Any ``serializable``\ninstance is defined implicitly such that the following operations \nreturn the original object.\n\n```python\nser: dict = dman.serialize(obj)\nres: str = dman.sjson.dumps(ser)\nser: dict = dman.sjson.loads(res)\nassert(obj == dman.deserialize(res))\n```\nThe goal is that the string ``res`` can be stored in a human readable file.\n\n<div class=\"alert alert-info\"><h4>Note</h4><p>We used ``sjson`` instead of ``json`` for dumping the dictionary\n      to a string. This replaces any unserializable objects with \n      a placeholder string. This corresponds with the ideals behind ``dman``,\n      one of which is that (some) serialization should always be produced.</p></div>\n\nBy default, several types are serializable. Specifically: ``str``, ``int``,\n``float``, ``bool``, ``NoneType``, ``list``, ``dict``, ``tuple``. Collections \ncan be nested. Note that ``tuple`` is somewhat of an exception since it \nis deserialized as a list. We are however able to extend upon these\nbasic types, which is the topic of this example.\n\n"
      ]
    },
    {
      "cell_type": "markdown",
      "metadata": {},
      "source": [
        "## Creating Serializables\nThere are several ways of creating a ``serializable`` class from scratch.\nYou can either do it manually or use some code generation functionality\nbuild into ``dman``. \n\n### Manual Definition\n\nThe standard way of defining a serializable is as follows:\n\n"
      ]
    },
    {
      "cell_type": "code",
      "execution_count": null,
      "metadata": {
        "collapsed": false
      },
      "outputs": [],
      "source": [
        "@dman.serializable(name='manual')\nclass Manual:\n    def __init__(self, value: str):\n        self.value = value\n\n    def __repr__(self):\n        return f'Manual(value={self.value})'\n    \n    def __serialize__(self):\n        return {'value': self.value}\n    \n    @classmethod\n    def __deserialize__(cls, ser: dict):\n        return cls(**ser)"
      ]
    },
    {
      "cell_type": "markdown",
      "metadata": {},
      "source": [
        "We can serialize the object\n\n"
      ]
    },
    {
      "cell_type": "code",
      "execution_count": null,
      "metadata": {
        "collapsed": false
      },
      "outputs": [],
      "source": [
        "test = Manual(value='hello world!')\nser = dman.serialize(test)\nres = dman.sjson.dumps(ser, indent=4)\nprint(res)"
      ]
    },
    {
      "cell_type": "markdown",
      "metadata": {},
      "source": [
        "Note how the dictionary under ``_ser__content`` is the output of our ``__serialize__``\nmethod. The type name is also added such that the dictionary can be interpreted\ncorrectly. We can ``deserialize`` a dictionary created like this as follows:\n\n"
      ]
    },
    {
      "cell_type": "code",
      "execution_count": null,
      "metadata": {
        "collapsed": false
      },
      "outputs": [],
      "source": [
        "ser = dman.sjson.loads(res)\ntest = dman.deserialize(ser)\nprint(test)"
      ]
    },
    {
      "cell_type": "markdown",
      "metadata": {},
      "source": [
        "<div class=\"alert alert-info\"><h4>Note</h4><p>It is possible to not include the serializable type and deserialize\n    by specifying the type manually using the following syntax\n\n```python\nser = dman.serialize(test, content_only=True)\nreconstructed: Manual = dman.deserialize(ser, ser_type=Manual)</p></div>\n```\n"
      ]
    },
    {
      "cell_type": "markdown",
      "metadata": {},
      "source": [
        "<div class=\"alert alert-danger\"><h4>Warning</h4><p>The name provided to ``@serializable`` should be unique within\n    your library. It is used as the identifier of the class by ``dman``\n    when deserializing.</p></div>\n\n"
      ]
    },
    {
      "cell_type": "markdown",
      "metadata": {},
      "source": [
        "### Automatic Generation\nOf course it would not be convenient to manually specify the ``__serialize__``\nand ``__deserialize__`` methods. Hence, the ``serializable`` decorator\nhas been implemented to automatically generate them whenever \nthe class is an instance of ``Enum`` or a ``dataclass`` (and when no prior ``__serialize__``\nand ``__deserialize__`` methods are specified). \n\nSo in the case of enums:\n\n"
      ]
    },
    {
      "cell_type": "code",
      "execution_count": null,
      "metadata": {
        "collapsed": false
      },
      "outputs": [],
      "source": [
        "from enum import Enum\n\n@dman.serializable(name='mode')\nclass Mode(Enum):\n    RED = 1\n    BLUE = 2\n\nser = dman.serialize(Mode.RED)\nprint(dman.sjson.dumps(ser, indent=4))"
      ]
    },
    {
      "cell_type": "markdown",
      "metadata": {},
      "source": [
        "In the case of ``dataclasses`` we get the following:\n\n"
      ]
    },
    {
      "cell_type": "code",
      "execution_count": null,
      "metadata": {
        "collapsed": false
      },
      "outputs": [],
      "source": [
        "from dataclasses import dataclass\n\n@dman.serializable(name='dcl_basic')\n@dataclass\nclass DCLBasic:\n    value: str\n\ntest = DCLBasic(value='hello world!')\nser = dman.serialize(test)\nprint(dman.sjson.dumps(ser, indent=4))"
      ]
    },
    {
      "cell_type": "markdown",
      "metadata": {},
      "source": [
        "As long as all of the fields in the dataclass are serializable, the whole\nwill be as well. \n\n<div class=\"alert alert-danger\"><h4>Warning</h4><p>Be careful when specifying the name that it is unique. It \n    is used to reconstruct an instance of a class based on the \n    ``_ser__type`` string. If a name is left unspecified, the value \n    under ``__name__`` in the class will be used.</p></div>\n\n\n<div class=\"alert alert-danger\"><h4>Warning</h4><p>In almost all cases it will be better to use ``@dman.modelclass``\n    when converting a ``dataclass`` into a ``serializable``.\n    This is mostly important when some fields are ``storable``,\n    in which case they will be handled automatically.  See `sphx_glr_gallery_fundamentals_example3_models.py`\n    for an overview of the ``modelclass`` decorator.</p></div>\n\n<div class=\"alert alert-info\"><h4>Note</h4><p>It is possible to have fields in your dataclass that you don't \n    want serialized. ''\n\n```python\nfrom dataclasses import dataclass\n\n@serializable(name='dcl_basic')\n@dataclass\nclass DCLBasic:\n    __no_serialize__ = ['hidden']\n    value: str\n    hidden: int = 0\n```\n    The field names in ``__no_serialize__`` will not be included \n    in the serialized ``dict``. Note that this means that you should\n    specify a default value for these fields to support deserialization.</p></div>\n\n"
      ]
    },
    {
      "cell_type": "markdown",
      "metadata": {},
      "source": [
        "## Serializing Existing Types\n\nOften you will already have some objects in a library that should \nalso be made serializable. In ``dman`` we provide some functionality \nthat makes this process simpler.\n\n### Registered Definition\n\nThe most flexible way of making a class serializable is by registering it \nmanually. This is especially useful when the original class definition \ncannot be manipulated (for example for ``numpy.ndarray``).\n\nSay we have some frozen class definition:\n\n"
      ]
    },
    {
      "cell_type": "code",
      "execution_count": null,
      "metadata": {
        "collapsed": false
      },
      "outputs": [],
      "source": [
        "class Frozen:    \n    def __init__(self, data: int):\n        self.data = data\n    \n    def __repr__(self):\n        return f'{self.__class__.__name__}(data={self.data})'"
      ]
    },
    {
      "cell_type": "markdown",
      "metadata": {},
      "source": [
        "We can make it serializable without touching the original class \ndefinition as follows:\n\n"
      ]
    },
    {
      "cell_type": "code",
      "execution_count": null,
      "metadata": {
        "collapsed": false
      },
      "outputs": [],
      "source": [
        "dman.register_serializable(\n    'frozen',\n    Frozen,\n    serialize=lambda frozen: frozen.data,\n    deserialize=lambda data: Frozen(data)\n)"
      ]
    },
    {
      "cell_type": "markdown",
      "metadata": {},
      "source": [
        "Now we can serialize frozen itself:\n\n"
      ]
    },
    {
      "cell_type": "code",
      "execution_count": null,
      "metadata": {
        "collapsed": false
      },
      "outputs": [],
      "source": [
        "frozen = Frozen(data=42)\nser = dman.serialize(frozen)\nres = dman.sjson.dumps(ser, indent=4)\nprint(res)"
      ]
    },
    {
      "cell_type": "markdown",
      "metadata": {},
      "source": [
        "And deserialize it\n\n"
      ]
    },
    {
      "cell_type": "code",
      "execution_count": null,
      "metadata": {
        "collapsed": false
      },
      "outputs": [],
      "source": [
        "ser = dman.sjson.loads(res)\nfrozen = dman.deserialize(ser)\nprint(frozen)"
      ]
    },
    {
      "cell_type": "markdown",
      "metadata": {},
      "source": [
        "You can take a look at ``dman.numerics`` to see an example of this \nin practice.\n\n"
      ]
    },
    {
      "cell_type": "markdown",
      "metadata": {},
      "source": [
        "### Templates\n\nIn many cases however it will be possible to alter the \noriginal class.\n\nSo say we have some user class that is used all throughout \nyour library:\n\n"
      ]
    },
    {
      "cell_type": "code",
      "execution_count": null,
      "metadata": {
        "collapsed": false
      },
      "outputs": [],
      "source": [
        "class User:    \n    def __init__(self, name: int):\n        self.name = name\n    \n    def __repr__(self):\n        return f'{self.__class__.__name__}(id={self.name})'"
      ]
    },
    {
      "cell_type": "markdown",
      "metadata": {},
      "source": [
        "We would like to make ``User`` serializable without \ndefining ``__serialize__`` and ``__deserialize__`` manually.\nWe can do so using a template:\n\n"
      ]
    },
    {
      "cell_type": "code",
      "execution_count": null,
      "metadata": {
        "collapsed": false
      },
      "outputs": [],
      "source": [
        "@dman.serializable\n@dataclass\nclass UserTemplate:\n    name: str\n\n    @classmethod\n    def __convert__(cls, other: 'User'):\n        return cls(other.name)\n    \n    def __de_convert__(self):\n        return User(self.name)"
      ]
    },
    {
      "cell_type": "markdown",
      "metadata": {},
      "source": [
        "A template has a method that allows conversion from the \noriginal class to the template and a method \nto undo that conversion.\n\n"
      ]
    },
    {
      "cell_type": "markdown",
      "metadata": {},
      "source": [
        "Using a template we can then make ``User`` itself serializable like this:\n\n"
      ]
    },
    {
      "cell_type": "code",
      "execution_count": null,
      "metadata": {
        "collapsed": false
      },
      "outputs": [],
      "source": [
        "serializable(User, name='user', template=UserTemplate)"
      ]
    },
    {
      "cell_type": "markdown",
      "metadata": {},
      "source": [
        "Now we can serialize a user:\n\n"
      ]
    },
    {
      "cell_type": "code",
      "execution_count": null,
      "metadata": {
        "collapsed": false
      },
      "outputs": [],
      "source": [
        "user = User(name='Thomas Anderson')\nser = dman.serialize(user)\nres = dman.sjson.dumps(ser, indent=4)\nprint(res)"
      ]
    },
    {
      "cell_type": "markdown",
      "metadata": {},
      "source": [
        "However this does make an adjustment to the class.\nSpecifically a field ``_ser__type`` is added:\n\n"
      ]
    },
    {
      "cell_type": "code",
      "execution_count": null,
      "metadata": {
        "collapsed": false
      },
      "outputs": [],
      "source": [
        "print(getattr(User, '_ser__type'))"
      ]
    },
    {
      "cell_type": "markdown",
      "metadata": {},
      "source": [
        "Using templates can also be useful when \nyou are able to work with subclasses of some ``Base`` class\ninstead.\n\nSo say you start with some ``Base`` class:\n\n"
      ]
    },
    {
      "cell_type": "code",
      "execution_count": null,
      "metadata": {
        "collapsed": false
      },
      "outputs": [],
      "source": [
        "class Base:\n    def __init__(self, data: int, computation: int = None):\n        self.data = data\n        self.computation = computation \n    \n    def compute(self):\n        self.computation = self.data**2\n    \n    def __repr__(self):\n        return f'{self.__class__.__name__}(data={self.data}, computation={self.computation})'"
      ]
    },
    {
      "cell_type": "markdown",
      "metadata": {},
      "source": [
        "We want to create a subtype of this class that is serializable without \ndefining the ``__serialize__`` method manually. \n\n"
      ]
    },
    {
      "cell_type": "code",
      "execution_count": null,
      "metadata": {
        "collapsed": false
      },
      "outputs": [],
      "source": [
        "@dman.serializable\n@dataclass\nclass Template:\n    data: int\n    computation: int \n\n    @classmethod\n    def __convert__(cls, other: 'SBase'):\n        return cls(other.data, other.computation)\n\n\n@dman.serializable(name='base', template=Template)\nclass SBase(Base): ..."
      ]
    },
    {
      "cell_type": "markdown",
      "metadata": {},
      "source": [
        "So we defined a template class with a convert method from ``Base`` and \nsimilarly we defined a serializable subclass of ``Base`` that \ncan be converted from ``Template``. Now we can serialize an instance of ``SBase``\nas follows:\n\n"
      ]
    },
    {
      "cell_type": "code",
      "execution_count": null,
      "metadata": {
        "collapsed": false
      },
      "outputs": [],
      "source": [
        "base = SBase(data=25)\nbase.compute()\nser = dman.serialize(base)\nres = dman.sjson.dumps(ser, indent=4)\nprint(res)"
      ]
    },
    {
      "cell_type": "markdown",
      "metadata": {},
      "source": [
        "And we can deserialize it too\n\n"
      ]
    },
    {
      "cell_type": "code",
      "execution_count": null,
      "metadata": {
        "collapsed": false
      },
      "outputs": [],
      "source": [
        "ser = dman.sjson.loads(res)\nbase = dman.deserialize(ser)\nprint(base)"
      ]
    },
    {
      "cell_type": "markdown",
      "metadata": {},
      "source": [
        "Note how we did not specify in the above example how to \ngo from an instance of ``Template`` to one of ``SBase``. \nSuch a ``__convert__`` method was actually generated automatically. \nWe could have instead specified the same behavior manually as follows:\n\n"
      ]
    },
    {
      "cell_type": "code",
      "execution_count": null,
      "metadata": {
        "collapsed": false
      },
      "outputs": [],
      "source": [
        "@dman.serializable(name='base', template=Template)\nclass SBase(Base):\n    @classmethod\n    def __convert__(cls, other: Template):\n        return cls(**asdict(other))"
      ]
    },
    {
      "cell_type": "markdown",
      "metadata": {},
      "source": [
        "Specifying this conversion manually could be \nrelevant if the fields of the ``Template`` dataclass\ndo not match the ones for the ``__init__`` method of ``Base``. \nFor example we could have had:\n\n"
      ]
    },
    {
      "cell_type": "code",
      "execution_count": null,
      "metadata": {
        "collapsed": false
      },
      "outputs": [],
      "source": [
        "class Base:\n    def __init__(self, data: int):\n        self.data = data\n        self.computation = None \n    \n    def compute(self):\n        self.computation = self.data**2\n    \n    def __repr__(self):\n        return f'{self.__class__.__name__}(data={self.data}, computation={self.computation})'"
      ]
    },
    {
      "cell_type": "markdown",
      "metadata": {},
      "source": [
        "So the value of ``computation`` cannot be passed to the constructor.\nWe can however compensate for this in the ``__convert__`` method:\n\n"
      ]
    },
    {
      "cell_type": "code",
      "execution_count": null,
      "metadata": {
        "collapsed": false
      },
      "outputs": [],
      "source": [
        "@dman.serializable(name='base', template=Template)\nclass SBase(Base):\n    @classmethod\n    def __convert__(cls, other: Template):\n        res = cls(other.data)\n        res.computation = other.computation\n        return res"
      ]
    },
    {
      "cell_type": "markdown",
      "metadata": {},
      "source": [
        "## Serializing Instances\n\nIn some settings it is useful to serialize instances directly. One common\nexample is methods.\n\n"
      ]
    },
    {
      "cell_type": "code",
      "execution_count": null,
      "metadata": {
        "collapsed": false
      },
      "outputs": [],
      "source": [
        "from math import sqrt\n@dman.register_instance(name='ell1')\ndef ell1(x, y):\n    return abs(x) + abs(y)\n@dman.register_instance(name='ell2')\ndef ell2(x, y):\n    return sqrt(x**2 + y**2)"
      ]
    },
    {
      "cell_type": "markdown",
      "metadata": {},
      "source": [
        "When serializing the result looks as follows:\n\n"
      ]
    },
    {
      "cell_type": "code",
      "execution_count": null,
      "metadata": {
        "collapsed": false
      },
      "outputs": [],
      "source": [
        "ser = dman.serialize([ell1, ell2])\ndman.tui.print_serialized(ser)"
      ]
    },
    {
      "cell_type": "markdown",
      "metadata": {},
      "source": [
        "Deserialization then works as expected.\n\n"
      ]
    },
    {
      "cell_type": "code",
      "execution_count": null,
      "metadata": {
        "collapsed": false
      },
      "outputs": [],
      "source": [
        "dser = dman.deserialize(ser)\nprint(dser)"
      ]
    },
    {
      "cell_type": "markdown",
      "metadata": {},
      "source": [
        "For specific instances we can also call `register_instance` inline. \n\n"
      ]
    },
    {
      "cell_type": "code",
      "execution_count": null,
      "metadata": {
        "collapsed": false
      },
      "outputs": [],
      "source": [
        "class Auto: ...\nAUTO = Auto()\ndman.register_instance(AUTO, name='auto')\ndman.tui.print_serialized(dman.serialize(AUTO))"
      ]
    }
  ],
  "metadata": {
    "kernelspec": {
      "display_name": "Python 3",
      "language": "python",
      "name": "python3"
    },
    "language_info": {
      "codemirror_mode": {
        "name": "ipython",
        "version": 3
      },
      "file_extension": ".py",
      "mimetype": "text/x-python",
      "name": "python",
      "nbconvert_exporter": "python",
      "pygments_lexer": "ipython3",
      "version": "3.10.9"
    }
  },
  "nbformat": 4,
  "nbformat_minor": 0
}