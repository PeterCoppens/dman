{
  "cells": [
    {
      "cell_type": "code",
      "execution_count": null,
      "metadata": {
        "collapsed": false
      },
      "outputs": [],
      "source": [
        "%matplotlib inline"
      ]
    },
    {
      "cell_type": "markdown",
      "metadata": {},
      "source": [
        "\n# Backup\n\nShows how to backup data.\n"
      ]
    },
    {
      "cell_type": "code",
      "execution_count": null,
      "metadata": {
        "collapsed": false
      },
      "outputs": [],
      "source": [
        "import dman\nfrom dman.numeric import carray, barray\nfrom dman.plotting import PdfFigure\n\nimport numpy as np\nimport matplotlib.pyplot as plt\nimport warnings\n\n\n@dman.modelclass(compact=True, storable=True)\nclass Config:\n    degrees: carray[int]\n\n\n@dman.modelclass(storable=True, store_by_field=True)\nclass Experiment:\n    x: barray = dman.recordfield(subdir='samples')\n    y: barray = dman.recordfield(subdir='samples')\n    z: dman.mruns\n    fig: PdfFigure = None\n\n\ndef experiment(cfg: Config):\n    \"\"\"Generate experiment data.\n    Based on: https://numpy.org/doc/stable/reference/generated/numpy.polyfit.html.\n    \"\"\"\n    xp = np.linspace(-2, 6, 100)\n    x = np.array([0.0, 1.0, 2.0, 3.0, 4.0, 5.0])\n    y = np.array([0.0, 0.8, 0.9, 0.1, -0.8, -1.0])\n    z = dman.mruns(stem=\"poly\", store_subdir=False, subdir='fit')\n\n    fig, ax = plt.subplots(1, 1)\n    ax.plot(x, y, \".\", color=\"gray\", label=\"samples\")\n    for d in dman.tui.progress(cfg.degrees, description=\"order\"):\n        with warnings.catch_warnings():\n            warnings.simplefilter(\"ignore\", np.RankWarning)\n            zz = np.polyfit(x, y, d)\n        z.append(zz.view(barray))\n        p = np.poly1d(zz)\n        ax.plot(xp, p(xp), \"-\", label=f\"fit deg={d}\")\n    ax.legend()\n    return Experiment(x, y, z, PdfFigure(fig))\n\n\ndef evaluate(cfg: Config):\n    \"\"\"Evaluate the provided configuration.\n    Store a backup of the last executed experiment.\n    \"\"\"\n    current = dman.load('current', default=None)\n    if current is not None:\n        with dman.track(\"__backup__\", default_factory=dman.mruns_factory(stem='backup')) as reg:\n            reg: dman.mruns = reg  # for type hinting\n            reg.append(current)\n    current = experiment(cfg)\n    dman.clean('current')       # clear old current\n    dman.save('current', current)\n    return current\n\n# Clear the backed up runs if they exist (for a fresh start)\ndman.clean('__backup__')\ndman.clean('current')\n\n# Execute several configurations\nres1 = evaluate(Config([1, 5, 7]))\nres2 = evaluate(Config([8, 3]))\nres3 = evaluate(Config([1, 5, 7]))"
      ]
    },
    {
      "cell_type": "markdown",
      "metadata": {},
      "source": [
        "We can examine the results and see that they are correct.\n\n"
      ]
    },
    {
      "cell_type": "code",
      "execution_count": null,
      "metadata": {
        "collapsed": false
      },
      "outputs": [],
      "source": [
        "dman.tui.pprint(res1)"
      ]
    },
    {
      "cell_type": "markdown",
      "metadata": {},
      "source": [
        "The file structure is then as follows. Note that a pdf has been created\nfor each experiment containing the produced figures. Feel free to take a look.\n\n"
      ]
    },
    {
      "cell_type": "code",
      "execution_count": null,
      "metadata": {
        "collapsed": false
      },
      "outputs": [],
      "source": [
        "dman.tui.walk_directory(dman.mount())"
      ]
    }
  ],
  "metadata": {
    "kernelspec": {
      "display_name": "Python 3",
      "language": "python",
      "name": "python3"
    },
    "language_info": {
      "codemirror_mode": {
        "name": "ipython",
        "version": 3
      },
      "file_extension": ".py",
      "mimetype": "text/x-python",
      "name": "python",
      "nbconvert_exporter": "python",
      "pygments_lexer": "ipython3",
      "version": "3.10.9"
    }
  },
  "nbformat": 4,
  "nbformat_minor": 0
}