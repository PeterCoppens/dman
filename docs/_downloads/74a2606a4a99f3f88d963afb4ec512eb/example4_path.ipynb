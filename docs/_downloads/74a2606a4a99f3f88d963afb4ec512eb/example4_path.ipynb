{
  "cells": [
    {
      "cell_type": "code",
      "execution_count": null,
      "metadata": {
        "collapsed": false
      },
      "outputs": [],
      "source": [
        "%matplotlib inline"
      ]
    },
    {
      "cell_type": "markdown",
      "metadata": {},
      "source": [
        "\n# Mounting and Targets\n\nTo keep track of files internally ``dman`` has some custom path specifications.\n"
      ]
    },
    {
      "cell_type": "markdown",
      "metadata": {},
      "source": [
        "## Introduction\n\nInternally ``dman`` specifies paths through mount points and targets.\nA mount point determines the root of the file tree that is constructed during \nserialization, while targets are used to specify the positions of files \nwithin this tree defined relative to the current directory. \n\nWe will operate in a temporary directory for the purpose of this example.\nTo do so we need to make sure it contains a ``.dman`` subfolder. Usually \nyou can create one by executing ``dman init`` in your terminal. We \ndo so using :func:`get_root_path` here.\n\n"
      ]
    },
    {
      "cell_type": "code",
      "execution_count": null,
      "metadata": {
        "collapsed": false
      },
      "outputs": [],
      "source": [
        "import os, subprocess, textwrap\nimport dman\nfrom tempfile import TemporaryDirectory\n\n# Create a temporary directory and change our directory to it.\ntmp = TemporaryDirectory()\nos.chdir(tmp.name)\n\n# Create the ``.dman`` folder.\n# This is identical to calling ``dman init`` in terminal.\ndman.get_root_path(create=True)"
      ]
    },
    {
      "cell_type": "markdown",
      "metadata": {},
      "source": [
        "## Mount points\nWe begin with introducing mount points. The signature of the :func:`dman.mount`\nmethod will appear often when using ``dman`` so we begin with discussing\nit in detail, before showing other functionalities provided by mount points.\n\n### Initialization\n\nA mount point is specified from some base directory, which usually \nis a ``.dman`` folder, located above the current working directory\nin the file tree (similarly to how a ``.git`` folder is located). \nFor the purposes of this example we use the temporary directory created above.\n\n"
      ]
    },
    {
      "cell_type": "code",
      "execution_count": null,
      "metadata": {
        "collapsed": false
      },
      "outputs": [],
      "source": [
        "os.chdir(tmp.name)\nprint(dman.mount('object'))"
      ]
    },
    {
      "cell_type": "markdown",
      "metadata": {},
      "source": [
        "We can break up the path into three parts.\n\n- ``<temporary dir>/.dman``` is the base directory, outputted by :func:`get_root_path`.\n- ``cache/example4_path``` is referred to as the generator.\n- ``object``` is the key of the specific file tree being operated on. \n\nThese match the arguments of :func:`mount`. \n\n.. autofunction:: dman.mount\n\nThe most complex argument is the ``generator``. \nUsually this is based on the path of the script relative to the root path\ncontaining ``.dman``. We can illustrate this by first creating a script \nlocal to the temporary directory. \n\n"
      ]
    },
    {
      "cell_type": "code",
      "execution_count": null,
      "metadata": {
        "collapsed": false
      },
      "outputs": [],
      "source": [
        "# Create script that prints the evaluation mount.\nos.chdir(tmp.name)\nos.mkdir(os.path.join(tmp.name, 'scripts'))\nlocal = os.path.join(tmp.name, 'scripts', 'script.py')\ncontent = '''\nimport dman\nprint(dman.mount('object'))\n'''\nwith open(local, 'w') as f:\n    f.write(content)\n\n# We can then see what the new output of ``mount`` is.\nout = subprocess.check_output(f'python {local}', shell=True)\nprint(str(out, 'utf-8'))"
      ]
    },
    {
      "cell_type": "markdown",
      "metadata": {},
      "source": [
        "The other arguments are relatively straightforward. \nWe provide some examples below\n\n"
      ]
    },
    {
      "cell_type": "code",
      "execution_count": null,
      "metadata": {
        "collapsed": false
      },
      "outputs": [],
      "source": [
        "os.chdir(tmp.name)\nprint('generator ...', dman.mount('object', generator='gen'))\nprint('base ........', dman.mount('object', base=os.path.join('home', 'user')))\nprint('subdir ......', dman.mount('object', subdir='folder'))\nprint('cluster .....', dman.mount('object', cluster=False))"
      ]
    },
    {
      "cell_type": "markdown",
      "metadata": {},
      "source": [
        "The final example, involving ``cluster``, does not include the key\nand is thus equivalent to \n\n"
      ]
    },
    {
      "cell_type": "code",
      "execution_count": null,
      "metadata": {
        "collapsed": false
      },
      "outputs": [],
      "source": [
        "os.chdir(tmp.name)\nprint('cluster .....', dman.mount(''))"
      ]
    },
    {
      "cell_type": "markdown",
      "metadata": {},
      "source": [
        "The reason for this redundancy is to be consistent with ``save``, ``load`` \nand ``track``. There the ``key`` determines the file name and the default\n``cluster=True`` means a dedicated directory is created for the file tree.\n\n"
      ]
    },
    {
      "cell_type": "markdown",
      "metadata": {},
      "source": [
        "### File IO\n\nNext we show how ``mount`` can be used to edit and remove files automatically.\n\n"
      ]
    },
    {
      "cell_type": "code",
      "execution_count": null,
      "metadata": {
        "collapsed": false
      },
      "outputs": [],
      "source": [
        "os.chdir(tmp.name)\nmnt = dman.mount('object', cluster=False)\nprint(mnt)\n\n# Write some text to a file.\nwith mnt.open('howto.txt', 'w') as f:\n    f.write(textwrap.dedent(\"\"\"\n        This is a book of bad ideas.\n            At least, most of them are bad ideas. It's possible some \n        good ones slipped through the cracks. If so, I apologize.\n    \"\"\"))"
      ]
    },
    {
      "cell_type": "markdown",
      "metadata": {},
      "source": [
        "One useful feature of mount points is that they detect when files have \nbeen written to before. For example:\n\n"
      ]
    },
    {
      "cell_type": "code",
      "execution_count": null,
      "metadata": {
        "collapsed": false
      },
      "outputs": [],
      "source": [
        "with mnt.open('howto.txt', 'w') as f:\n    f.write(textwrap.dedent(\"\"\"\n        This information was lost.\n    \"\"\"))"
      ]
    },
    {
      "cell_type": "markdown",
      "metadata": {},
      "source": [
        "By default a warning is provided, but we can also raise an error\n\n"
      ]
    },
    {
      "cell_type": "code",
      "execution_count": null,
      "metadata": {
        "collapsed": false
      },
      "outputs": [],
      "source": [
        "from dman.core.path import UserQuitException\ntry:\n    # set retouch action\n    dman.params.store.on_retouch = 'quit' \n\n    with mnt.open('howto.txt', 'w') as f:\n        f.write(textwrap.dedent(\"\"\"\n            This string will never be written.\n        \"\"\"))\nexcept UserQuitException as e:\n    print(e)"
      ]
    },
    {
      "cell_type": "markdown",
      "metadata": {},
      "source": [
        "Alternatively we can automatically increment the file name.\n\n"
      ]
    },
    {
      "cell_type": "code",
      "execution_count": null,
      "metadata": {
        "collapsed": false
      },
      "outputs": [],
      "source": [
        "dman.params.store.on_retouch = 'auto'\n\nwith mnt.open('howto.txt', 'w') as f:\n    f.write(textwrap.dedent(\"\"\"\n        This is a book of bad ideas.\n            At least, most of them are bad ideas. It's possible some \n        good ones slipped through the cracks. If so, I apologize.\n    \"\"\"))"
      ]
    },
    {
      "cell_type": "markdown",
      "metadata": {},
      "source": [
        "You can also configure ``dman`` to prompt the user as follows:\n\n```python\ndman.params.store.on_retouch = 'prompt'\n```\nThe default behavior can be recovered using:\n\n```python\ndman.params.store.on_retouch = 'ignore'\n```\n"
      ]
    },
    {
      "cell_type": "markdown",
      "metadata": {},
      "source": [
        "The final state of the \n\n"
      ]
    },
    {
      "cell_type": "code",
      "execution_count": null,
      "metadata": {
        "collapsed": false
      },
      "outputs": [],
      "source": [
        "mnt.close()\ndman.tui.walk_directory(mnt, show_content=True, show_hidden=True)"
      ]
    },
    {
      "cell_type": "markdown",
      "metadata": {},
      "source": [
        "Note that the edited files are also added to a ``.gitignore`` file \nautomatically. You can add ``gitignore=False`` to your call of ``mnt``\nto avoid this. \n\nWe can also remove files and they are removed from the ``.gitignore``\nautomatically. \n\n"
      ]
    },
    {
      "cell_type": "code",
      "execution_count": null,
      "metadata": {
        "collapsed": false
      },
      "outputs": [],
      "source": [
        "mnt.remove('howto.txt')\nmnt.close()\ndman.tui.walk_directory(mnt, show_content=True, show_hidden=True)"
      ]
    },
    {
      "cell_type": "markdown",
      "metadata": {},
      "source": [
        "## Targets\n\nFor now we have been specifying paths relative to the mount point \nusing strings. Internally ``dman`` used ``target`` to create these \npaths. It is useful to know about this since many higher-level methods\nuse the same signature.\n\n.. autofunction:: dman.target\n\nWe provide some examples here\n\n"
      ]
    },
    {
      "cell_type": "code",
      "execution_count": null,
      "metadata": {
        "collapsed": false
      },
      "outputs": [],
      "source": [
        "print('a.', dman.target(stem='file', suffix='.obj'))\nprint('b.', dman.target(name='file.obj'))\nprint('c.', dman.target(name='file.obj', subdir='folder'))"
      ]
    }
  ],
  "metadata": {
    "kernelspec": {
      "display_name": "Python 3",
      "language": "python",
      "name": "python3"
    },
    "language_info": {
      "codemirror_mode": {
        "name": "ipython",
        "version": 3
      },
      "file_extension": ".py",
      "mimetype": "text/x-python",
      "name": "python",
      "nbconvert_exporter": "python",
      "pygments_lexer": "ipython3",
      "version": "3.10.9"
    }
  },
  "nbformat": 4,
  "nbformat_minor": 0
}