{
  "cells": [
    {
      "cell_type": "code",
      "execution_count": null,
      "metadata": {
        "collapsed": false
      },
      "outputs": [],
      "source": [
        "%matplotlib inline"
      ]
    },
    {
      "cell_type": "markdown",
      "metadata": {},
      "source": [
        "\n# Resumable\n\nHow to implement a resumable experiment.\n"
      ]
    },
    {
      "cell_type": "markdown",
      "metadata": {},
      "source": [
        "## Overview\n\nWe show how you can use ``dman`` to create a resumable script. To do\nso we introduce the following components:\n\n* ``tui.stack`` used for resumable for loops (requires ``rich``).\n* ``dman.uninterrupted`` to allow for keyboard interrupt safe storing of files.\n\n"
      ]
    },
    {
      "cell_type": "markdown",
      "metadata": {},
      "source": [
        "## Setting up\n\nTo setup the example you will need the following imports:\n\n"
      ]
    },
    {
      "cell_type": "code",
      "execution_count": null,
      "metadata": {
        "collapsed": false
      },
      "outputs": [],
      "source": [
        "import dman\nfrom dman import tui\nfrom dman.numeric import barray\n\nimport numpy as np\nimport numpy.random as npr\n\nimport time\nfrom typing import Tuple"
      ]
    },
    {
      "cell_type": "markdown",
      "metadata": {},
      "source": [
        "We will also be using the following ``modelclass`` to store our data.\nThe field ``state`` will keep track of the current state of the script.\n\n"
      ]
    },
    {
      "cell_type": "code",
      "execution_count": null,
      "metadata": {
        "collapsed": false
      },
      "outputs": [],
      "source": [
        "@dman.modelclass\nclass Experiment:\n    data: barray = dman.recordfield(stem=\"data\", default=None)\n    state: Tuple[int] = None"
      ]
    },
    {
      "cell_type": "markdown",
      "metadata": {},
      "source": [
        "## Running the experiment\nWe load the experiment if it exists, otherwise we create a default one.\n\n"
      ]
    },
    {
      "cell_type": "code",
      "execution_count": null,
      "metadata": {
        "collapsed": false
      },
      "outputs": [],
      "source": [
        "shape = (30, 10)\nexp: Experiment = dman.load(\"experiment\", default_factory=Experiment)\nif exp.data is None:\n    exp.data = np.zeros(shape)"
      ]
    },
    {
      "cell_type": "markdown",
      "metadata": {},
      "source": [
        "We use a stack to iterate through the two nested for loops,\npopulating the data array. You can alternatively use \n``sg(range(shape[1]), ...)``, replacing ``range`` with any other iterable. \n\n"
      ]
    },
    {
      "cell_type": "code",
      "execution_count": null,
      "metadata": {
        "collapsed": false
      },
      "outputs": [],
      "source": [
        "rg = npr.default_rng(1024)\nwith tui.stack(exp.state) as sg:\n    it = sg.range(shape[0], log={'value': np.nan})\n    for i in it:\n        for j in sg.range(shape[1]):\n            # generate new data point\n            time.sleep(0.01)\n            exp.data[i, j] = rg.normal()\n\n            # update descriptors of tasks\n            it.update(value=exp.data[i, j])\n\n            # store the state and current result\n            exp.state = sg.state\n            with dman.uninterrupted():\n                dman.save(\"experiment\", exp)"
      ]
    },
    {
      "cell_type": "markdown",
      "metadata": {},
      "source": [
        "We used ``dman.uninterrupted`` to make sure that no keyboard interrupts\noccur while saving to disk. Instead they are captured and\nraised after ``dman.save`` is completed.\n\nYou can try running the script and seeing what happens when you press\n``CTRL+C`` and resume.\n\nNo matter how many times you quit the script. Eventually the full \narray should be computed:\n\n"
      ]
    },
    {
      "cell_type": "code",
      "execution_count": null,
      "metadata": {
        "collapsed": false
      },
      "outputs": [],
      "source": [
        "exp: Experiment = dman.load(\"experiment\")\nwith np.printoptions(linewidth=80, formatter={\"float\": lambda f: f\"{f:+0.2f}\"}):\n    tui.pprint(exp.data)"
      ]
    }
  ],
  "metadata": {
    "kernelspec": {
      "display_name": "Python 3",
      "language": "python",
      "name": "python3"
    },
    "language_info": {
      "codemirror_mode": {
        "name": "ipython",
        "version": 3
      },
      "file_extension": ".py",
      "mimetype": "text/x-python",
      "name": "python",
      "nbconvert_exporter": "python",
      "pygments_lexer": "ipython3",
      "version": "3.10.9"
    }
  },
  "nbformat": 4,
  "nbformat_minor": 0
}