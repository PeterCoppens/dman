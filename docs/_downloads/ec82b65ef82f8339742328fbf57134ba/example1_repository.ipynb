{
  "cells": [
    {
      "cell_type": "code",
      "execution_count": null,
      "metadata": {
        "collapsed": false
      },
      "outputs": [],
      "source": [
        "%matplotlib inline"
      ]
    },
    {
      "cell_type": "markdown",
      "metadata": {},
      "source": [
        "\n# Repository\n\nShows how to store data based on configs.\n"
      ]
    },
    {
      "cell_type": "code",
      "execution_count": null,
      "metadata": {
        "collapsed": false
      },
      "outputs": [],
      "source": [
        "import dman\nfrom dman.numeric import carray, barray\nfrom dman.plotting import PdfFigure\n\nimport numpy as np\nimport matplotlib.pyplot as plt\nimport warnings\n\n\n@dman.modelclass(compact=True, storable=True)\nclass Config:\n    degrees: carray[int]\n\n    def key(self):\n        return f\"fit({','.join([str(d) for d in self.degrees])})\"\n\n\n@dman.modelclass(storable=True, store_by_field=True)\nclass Experiment:\n    x: barray = dman.recordfield(subdir='samples')\n    y: barray = dman.recordfield(subdir='samples')\n    z: dman.mruns\n    fig: PdfFigure = None\n\n\ndef experiment(cfg: Config):\n    \"\"\"Generate experiment data.\n    Based on: https://numpy.org/doc/stable/reference/generated/numpy.polyfit.html.\n    \"\"\"\n    xp = np.linspace(-2, 6, 100)\n    x = np.array([0.0, 1.0, 2.0, 3.0, 4.0, 5.0])\n    y = np.array([0.0, 0.8, 0.9, 0.1, -0.8, -1.0])\n    z = dman.mruns(stem=\"poly\", store_subdir=False, subdir='fit')\n\n    fig, ax = plt.subplots(1, 1)\n    ax.plot(x, y, \".\", color=\"gray\", label=\"samples\")\n    for d in dman.tui.progress(cfg.degrees, description=\"order\"):\n        with warnings.catch_warnings():\n            warnings.simplefilter(\"ignore\", np.RankWarning)\n            zz = np.polyfit(x, y, d)\n        z.append(zz.view(barray))\n        p = np.poly1d(zz)\n        ax.plot(xp, p(xp), \"-\", label=f\"fit deg={d}\")\n    ax.legend()\n    return Experiment(x, y, z, PdfFigure(fig))\n\n\ndef evaluate(cfg: Config):\n    \"\"\"Evaluate the provided configuration.\n    If the experiment was executed before we return its result\n    otherwise a new experiment is executed.\"\"\"\n    with dman.track(\"poly\", default_factory=dman.mdict_factory(store_subdir=True, store_by_key=True)) as reg:\n        reg: dman.mdict = reg  # for type hinting\n        value = reg.get(cfg.key(), None)\n        if value is None:\n            value = experiment(cfg)\n            reg[cfg.key()] = value\n        return value\n\n# Clear the old runs if they exist (for testing)\ndman.clean('poly')\n\n# Execute several configurations\nres1 = evaluate(Config([1, 5, 7]))\nres2 = evaluate(Config([8, 3]))"
      ]
    },
    {
      "cell_type": "markdown",
      "metadata": {},
      "source": [
        "We can examine the results and see that they are correct.\n\n"
      ]
    },
    {
      "cell_type": "code",
      "execution_count": null,
      "metadata": {
        "collapsed": false
      },
      "outputs": [],
      "source": [
        "dman.tui.pprint(res1)\ndman.tui.pprint(res2)"
      ]
    },
    {
      "cell_type": "markdown",
      "metadata": {},
      "source": [
        "We can re-execute an old configuration\n\n"
      ]
    },
    {
      "cell_type": "code",
      "execution_count": null,
      "metadata": {
        "collapsed": false
      },
      "outputs": [],
      "source": [
        "res3 = evaluate(Config([1, 5, 7]))\ndman.tui.pprint(res3)  # data is unloaded since it was loaded from disk"
      ]
    },
    {
      "cell_type": "markdown",
      "metadata": {},
      "source": [
        "The file structure is then as follows. Note that a pdf has been created\nfor each experiment containing the produced figures. Feel free to take a look.\n\n"
      ]
    },
    {
      "cell_type": "code",
      "execution_count": null,
      "metadata": {
        "collapsed": false
      },
      "outputs": [],
      "source": [
        "dman.tui.walk_directory(dman.mount(\"poly\"))"
      ]
    }
  ],
  "metadata": {
    "kernelspec": {
      "display_name": "Python 3",
      "language": "python",
      "name": "python3"
    },
    "language_info": {
      "codemirror_mode": {
        "name": "ipython",
        "version": 3
      },
      "file_extension": ".py",
      "mimetype": "text/x-python",
      "name": "python",
      "nbconvert_exporter": "python",
      "pygments_lexer": "ipython3",
      "version": "3.10.9"
    }
  },
  "nbformat": 4,
  "nbformat_minor": 0
}